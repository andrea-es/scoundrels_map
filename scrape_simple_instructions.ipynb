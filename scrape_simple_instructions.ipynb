{
 "cells": [
  {
   "cell_type": "markdown",
   "metadata": {},
   "source": [
    "#### Import All Required Libraries"
   ]
  },
  {
   "cell_type": "code",
   "execution_count": 3,
   "metadata": {},
   "outputs": [],
   "source": [
    "from selenium import webdriver\n",
    "from selenium.webdriver.common.by import By\n",
    "from selenium.webdriver.common.keys import Keys\n",
    "from selenium.webdriver.support.ui import WebDriverWait\n",
    "from selenium.webdriver.support import expected_conditions as EC\n",
    "import time"
   ]
  },
  {
   "cell_type": "markdown",
   "metadata": {},
   "source": [
    "#### Initialize and Open Chrome"
   ]
  },
  {
   "cell_type": "code",
   "execution_count": 4,
   "metadata": {},
   "outputs": [],
   "source": [
    "# Initialize Chrome WebDriver\n",
    "driver = webdriver.Chrome()\n",
    "\n",
    "# Open Google\n",
    "driver.get(\"https://www.google.com\")"
   ]
  },
  {
   "cell_type": "markdown",
   "metadata": {},
   "source": [
    "#### Handle Cookie Consent Popup"
   ]
  },
  {
   "cell_type": "markdown",
   "metadata": {},
   "source": [
    "works with Italian, may need to do another one for English"
   ]
  },
  {
   "cell_type": "code",
   "execution_count": 5,
   "metadata": {},
   "outputs": [
    {
     "name": "stdout",
     "output_type": "stream",
     "text": [
      "Cookie popup dismissed.\n"
     ]
    }
   ],
   "source": [
    "# Handle the cookie consent popup\n",
    "try:\n",
    "    WebDriverWait(driver, 5).until(\n",
    "        EC.element_to_be_clickable((By.XPATH, \"//button/div[text()='Rifiuta tutto']\"))\n",
    "    ).click()\n",
    "    print(\"Cookie popup dismissed.\")\n",
    "except:\n",
    "    print(\"No cookie popup found or already dismissed.\")\n"
   ]
  },
  {
   "cell_type": "markdown",
   "metadata": {},
   "source": [
    "#### Perform a Google Search"
   ]
  },
  {
   "cell_type": "code",
   "execution_count": 8,
   "metadata": {},
   "outputs": [
    {
     "name": "stdout",
     "output_type": "stream",
     "text": [
      "Title: Selenium Python Tutorial (with Example) | BrowserStack\n",
      "Link: https://www.browserstack.com/guide/python-selenium-to-run-web-automation-test#:~:text=Selenium%2C%20combined%20with%20Python%2C%20offers,clear%20and%20maintainable%20test%20scripts.\n",
      "\n",
      "Title: Is Python a good language to learn for Automation testing? : r/learnpython\n",
      "Link: https://www.reddit.com/r/learnpython/comments/t4wjuu/is_python_a_good_language_to_learn_for_automation/\n",
      "\n",
      "Title: How many days are sufficient to learn Selenium? - GeeksforGeeks\n",
      "Link: https://www.geeksforgeeks.org/how-many-days-are-sufficient-to-learn-selenium/#:~:text=For%20beginners%20with%20no%20programming,%2C%20around%201%2D2%20months.\n",
      "\n",
      "Title: Selenium Python Tutorial - GeeksforGeeks\n",
      "Link: https://www.geeksforgeeks.org/selenium-python-tutorial/#:~:text=With%20Selenium%20Python%2C%20you%20can,quality%20builds%20at%20light%20speed.\n",
      "\n"
     ]
    }
   ],
   "source": [
    "# Search for a term\n",
    "search_box = WebDriverWait(driver, 10).until(\n",
    "    EC.element_to_be_clickable((By.NAME, \"q\"))\n",
    ")\n",
    "search_term = \"Selenium Python tutorials\"\n",
    "search_box.send_keys(search_term)\n",
    "search_box.send_keys(Keys.RETURN)\n",
    "\n",
    "# Wait for search results to load\n",
    "WebDriverWait(driver, 10).until(\n",
    "    EC.presence_of_all_elements_located((By.XPATH, \"//div[@class='tF2Cxc']\"))\n",
    ")\n",
    "\n",
    "# Scrape search results\n",
    "results = driver.find_elements(By.XPATH, \"//div[@class='tF2Cxc']\")\n",
    "for result in results:\n",
    "    try:\n",
    "        # Get the title from the <h3> tag\n",
    "        title = driver.execute_script(\"return arguments[0].textContent;\", result.find_element(By.XPATH, \".//h3\"))\n",
    "        # Get the link from the <a> tag\n",
    "        link = result.find_element(By.XPATH, \".//a\").get_attribute(\"href\")\n",
    "        print(f\"Title: {title}\\nLink: {link}\\n\")\n",
    "    except Exception as e:\n",
    "        print(f\"Error extracting result: {e}\")\n"
   ]
  },
  {
   "cell_type": "markdown",
   "metadata": {},
   "source": [
    "#### Automate a Login"
   ]
  },
  {
   "cell_type": "markdown",
   "metadata": {},
   "source": [
    "password fields are sometimes not interactable with. let's let the user log in"
   ]
  },
  {
   "cell_type": "code",
   "execution_count": 25,
   "metadata": {},
   "outputs": [
    {
     "ename": "ElementNotInteractableException",
     "evalue": "Message: element not interactable\n  (Session info: chrome=131.0.6778.205)\nStacktrace:\n\tGetHandleVerifier [0x00007FF78004FB05+28789]\n\t(No symbol) [0x00007FF77FFB86E0]\n\t(No symbol) [0x00007FF77FE55759]\n\t(No symbol) [0x00007FF77FEA2E64]\n\t(No symbol) [0x00007FF77FEA0F7D]\n\t(No symbol) [0x00007FF77FECF43A]\n\t(No symbol) [0x00007FF77FE9C5B6]\n\t(No symbol) [0x00007FF77FECF650]\n\t(No symbol) [0x00007FF77FEEF654]\n\t(No symbol) [0x00007FF77FECF1E3]\n\t(No symbol) [0x00007FF77FE9A938]\n\t(No symbol) [0x00007FF77FE9BAA1]\n\tGetHandleVerifier [0x00007FF78038933D+3410093]\n\tGetHandleVerifier [0x00007FF78039E7DD+3497293]\n\tGetHandleVerifier [0x00007FF780392A73+3448803]\n\tGetHandleVerifier [0x00007FF780117BBB+848171]\n\t(No symbol) [0x00007FF77FFC3C3F]\n\t(No symbol) [0x00007FF77FFBF6E4]\n\t(No symbol) [0x00007FF77FFBF87D]\n\t(No symbol) [0x00007FF77FFAED49]\n\tBaseThreadInitThunk [0x00007FFB1991259D+29]\n\tRtlUserThreadStart [0x00007FFB1B40AF38+40]\n",
     "output_type": "error",
     "traceback": [
      "\u001b[1;31m---------------------------------------------------------------------------\u001b[0m",
      "\u001b[1;31mElementNotInteractableException\u001b[0m           Traceback (most recent call last)",
      "Cell \u001b[1;32mIn[25], line 12\u001b[0m\n\u001b[0;32m     10\u001b[0m \u001b[38;5;66;03m# Enter password\u001b[39;00m\n\u001b[0;32m     11\u001b[0m password_field \u001b[38;5;241m=\u001b[39m driver\u001b[38;5;241m.\u001b[39mfind_element(By\u001b[38;5;241m.\u001b[39mID, \u001b[38;5;124m\"\u001b[39m\u001b[38;5;124mpassword\u001b[39m\u001b[38;5;124m\"\u001b[39m)\n\u001b[1;32m---> 12\u001b[0m \u001b[43mpassword_field\u001b[49m\u001b[38;5;241;43m.\u001b[39;49m\u001b[43msend_keys\u001b[49m\u001b[43m(\u001b[49m\u001b[38;5;124;43m\"\u001b[39;49m\u001b[38;5;124;43myour_password\u001b[39;49m\u001b[38;5;124;43m\"\u001b[39;49m\u001b[43m)\u001b[49m\n\u001b[0;32m     14\u001b[0m \u001b[38;5;66;03m# Click login button\u001b[39;00m\n\u001b[0;32m     15\u001b[0m driver\u001b[38;5;241m.\u001b[39mfind_element(By\u001b[38;5;241m.\u001b[39mNAME, \u001b[38;5;124m\"\u001b[39m\u001b[38;5;124mcommit\u001b[39m\u001b[38;5;124m\"\u001b[39m)\u001b[38;5;241m.\u001b[39mclick()\n",
      "File \u001b[1;32mc:\\Users\\andre\\AppData\\Local\\Programs\\Python\\Python313\\Lib\\site-packages\\selenium\\webdriver\\remote\\webelement.py:231\u001b[0m, in \u001b[0;36mWebElement.send_keys\u001b[1;34m(self, *value)\u001b[0m\n\u001b[0;32m    228\u001b[0m             remote_files\u001b[38;5;241m.\u001b[39mappend(\u001b[38;5;28mself\u001b[39m\u001b[38;5;241m.\u001b[39m_upload(file))\n\u001b[0;32m    229\u001b[0m         value \u001b[38;5;241m=\u001b[39m \u001b[38;5;28mtuple\u001b[39m(\u001b[38;5;124m\"\u001b[39m\u001b[38;5;130;01m\\n\u001b[39;00m\u001b[38;5;124m\"\u001b[39m\u001b[38;5;241m.\u001b[39mjoin(remote_files))\n\u001b[1;32m--> 231\u001b[0m \u001b[38;5;28;43mself\u001b[39;49m\u001b[38;5;241;43m.\u001b[39;49m\u001b[43m_execute\u001b[49m\u001b[43m(\u001b[49m\n\u001b[0;32m    232\u001b[0m \u001b[43m    \u001b[49m\u001b[43mCommand\u001b[49m\u001b[38;5;241;43m.\u001b[39;49m\u001b[43mSEND_KEYS_TO_ELEMENT\u001b[49m\u001b[43m,\u001b[49m\u001b[43m \u001b[49m\u001b[43m{\u001b[49m\u001b[38;5;124;43m\"\u001b[39;49m\u001b[38;5;124;43mtext\u001b[39;49m\u001b[38;5;124;43m\"\u001b[39;49m\u001b[43m:\u001b[49m\u001b[43m \u001b[49m\u001b[38;5;124;43m\"\u001b[39;49m\u001b[38;5;124;43m\"\u001b[39;49m\u001b[38;5;241;43m.\u001b[39;49m\u001b[43mjoin\u001b[49m\u001b[43m(\u001b[49m\u001b[43mkeys_to_typing\u001b[49m\u001b[43m(\u001b[49m\u001b[43mvalue\u001b[49m\u001b[43m)\u001b[49m\u001b[43m)\u001b[49m\u001b[43m,\u001b[49m\u001b[43m \u001b[49m\u001b[38;5;124;43m\"\u001b[39;49m\u001b[38;5;124;43mvalue\u001b[39;49m\u001b[38;5;124;43m\"\u001b[39;49m\u001b[43m:\u001b[49m\u001b[43m \u001b[49m\u001b[43mkeys_to_typing\u001b[49m\u001b[43m(\u001b[49m\u001b[43mvalue\u001b[49m\u001b[43m)\u001b[49m\u001b[43m}\u001b[49m\n\u001b[0;32m    233\u001b[0m \u001b[43m\u001b[49m\u001b[43m)\u001b[49m\n",
      "File \u001b[1;32mc:\\Users\\andre\\AppData\\Local\\Programs\\Python\\Python313\\Lib\\site-packages\\selenium\\webdriver\\remote\\webelement.py:395\u001b[0m, in \u001b[0;36mWebElement._execute\u001b[1;34m(self, command, params)\u001b[0m\n\u001b[0;32m    393\u001b[0m     params \u001b[38;5;241m=\u001b[39m {}\n\u001b[0;32m    394\u001b[0m params[\u001b[38;5;124m\"\u001b[39m\u001b[38;5;124mid\u001b[39m\u001b[38;5;124m\"\u001b[39m] \u001b[38;5;241m=\u001b[39m \u001b[38;5;28mself\u001b[39m\u001b[38;5;241m.\u001b[39m_id\n\u001b[1;32m--> 395\u001b[0m \u001b[38;5;28;01mreturn\u001b[39;00m \u001b[38;5;28;43mself\u001b[39;49m\u001b[38;5;241;43m.\u001b[39;49m\u001b[43m_parent\u001b[49m\u001b[38;5;241;43m.\u001b[39;49m\u001b[43mexecute\u001b[49m\u001b[43m(\u001b[49m\u001b[43mcommand\u001b[49m\u001b[43m,\u001b[49m\u001b[43m \u001b[49m\u001b[43mparams\u001b[49m\u001b[43m)\u001b[49m\n",
      "File \u001b[1;32mc:\\Users\\andre\\AppData\\Local\\Programs\\Python\\Python313\\Lib\\site-packages\\selenium\\webdriver\\remote\\webdriver.py:384\u001b[0m, in \u001b[0;36mWebDriver.execute\u001b[1;34m(self, driver_command, params)\u001b[0m\n\u001b[0;32m    382\u001b[0m response \u001b[38;5;241m=\u001b[39m \u001b[38;5;28mself\u001b[39m\u001b[38;5;241m.\u001b[39mcommand_executor\u001b[38;5;241m.\u001b[39mexecute(driver_command, params)\n\u001b[0;32m    383\u001b[0m \u001b[38;5;28;01mif\u001b[39;00m response:\n\u001b[1;32m--> 384\u001b[0m     \u001b[38;5;28;43mself\u001b[39;49m\u001b[38;5;241;43m.\u001b[39;49m\u001b[43merror_handler\u001b[49m\u001b[38;5;241;43m.\u001b[39;49m\u001b[43mcheck_response\u001b[49m\u001b[43m(\u001b[49m\u001b[43mresponse\u001b[49m\u001b[43m)\u001b[49m\n\u001b[0;32m    385\u001b[0m     response[\u001b[38;5;124m\"\u001b[39m\u001b[38;5;124mvalue\u001b[39m\u001b[38;5;124m\"\u001b[39m] \u001b[38;5;241m=\u001b[39m \u001b[38;5;28mself\u001b[39m\u001b[38;5;241m.\u001b[39m_unwrap_value(response\u001b[38;5;241m.\u001b[39mget(\u001b[38;5;124m\"\u001b[39m\u001b[38;5;124mvalue\u001b[39m\u001b[38;5;124m\"\u001b[39m, \u001b[38;5;28;01mNone\u001b[39;00m))\n\u001b[0;32m    386\u001b[0m     \u001b[38;5;28;01mreturn\u001b[39;00m response\n",
      "File \u001b[1;32mc:\\Users\\andre\\AppData\\Local\\Programs\\Python\\Python313\\Lib\\site-packages\\selenium\\webdriver\\remote\\errorhandler.py:232\u001b[0m, in \u001b[0;36mErrorHandler.check_response\u001b[1;34m(self, response)\u001b[0m\n\u001b[0;32m    230\u001b[0m         alert_text \u001b[38;5;241m=\u001b[39m value[\u001b[38;5;124m\"\u001b[39m\u001b[38;5;124malert\u001b[39m\u001b[38;5;124m\"\u001b[39m]\u001b[38;5;241m.\u001b[39mget(\u001b[38;5;124m\"\u001b[39m\u001b[38;5;124mtext\u001b[39m\u001b[38;5;124m\"\u001b[39m)\n\u001b[0;32m    231\u001b[0m     \u001b[38;5;28;01mraise\u001b[39;00m exception_class(message, screen, stacktrace, alert_text)  \u001b[38;5;66;03m# type: ignore[call-arg]  # mypy is not smart enough here\u001b[39;00m\n\u001b[1;32m--> 232\u001b[0m \u001b[38;5;28;01mraise\u001b[39;00m exception_class(message, screen, stacktrace)\n",
      "\u001b[1;31mElementNotInteractableException\u001b[0m: Message: element not interactable\n  (Session info: chrome=131.0.6778.205)\nStacktrace:\n\tGetHandleVerifier [0x00007FF78004FB05+28789]\n\t(No symbol) [0x00007FF77FFB86E0]\n\t(No symbol) [0x00007FF77FE55759]\n\t(No symbol) [0x00007FF77FEA2E64]\n\t(No symbol) [0x00007FF77FEA0F7D]\n\t(No symbol) [0x00007FF77FECF43A]\n\t(No symbol) [0x00007FF77FE9C5B6]\n\t(No symbol) [0x00007FF77FECF650]\n\t(No symbol) [0x00007FF77FEEF654]\n\t(No symbol) [0x00007FF77FECF1E3]\n\t(No symbol) [0x00007FF77FE9A938]\n\t(No symbol) [0x00007FF77FE9BAA1]\n\tGetHandleVerifier [0x00007FF78038933D+3410093]\n\tGetHandleVerifier [0x00007FF78039E7DD+3497293]\n\tGetHandleVerifier [0x00007FF780392A73+3448803]\n\tGetHandleVerifier [0x00007FF780117BBB+848171]\n\t(No symbol) [0x00007FF77FFC3C3F]\n\t(No symbol) [0x00007FF77FFBF6E4]\n\t(No symbol) [0x00007FF77FFBF87D]\n\t(No symbol) [0x00007FF77FFAED49]\n\tBaseThreadInitThunk [0x00007FFB1991259D+29]\n\tRtlUserThreadStart [0x00007FFB1B40AF38+40]\n"
     ]
    }
   ],
   "source": [
    "# Open GitHub login page\n",
    "driver.get(\"https://github.com/login\")\n",
    "\n",
    "# Enter username\n",
    "username_field = WebDriverWait(driver, 10).until(\n",
    "    EC.element_to_be_clickable((By.ID, \"login_field\"))\n",
    ")\n",
    "username_field.send_keys(\"your_username\")\n",
    "\n",
    "# Enter password\n",
    "password_field = driver.find_element(By.ID, \"password\")\n",
    "password_field.send_keys(\"your_password\")\n",
    "\n",
    "# Click login button\n",
    "driver.find_element(By.NAME, \"commit\").click()\n",
    "\n",
    "# Wait for the page to load and confirm login\n",
    "WebDriverWait(driver, 10).until(\n",
    "    EC.presence_of_element_located((By.XPATH, \"//summary[@aria-label='View profile and more']\"))\n",
    ")\n",
    "print(\"Login successful!\")"
   ]
  },
  {
   "cell_type": "markdown",
   "metadata": {},
   "source": [
    "#### Automate Form Filling"
   ]
  },
  {
   "cell_type": "code",
   "execution_count": 26,
   "metadata": {},
   "outputs": [
    {
     "ename": "ElementClickInterceptedException",
     "evalue": "Message: element click intercepted: Element <button type=\"submit\" class=\"ws-btn\">...</button> is not clickable at point (164, 635). Other element would receive the click: <div class=\"sn-v-cell\">...</div>\n  (Session info: chrome=131.0.6778.205)\nStacktrace:\n\tGetHandleVerifier [0x00007FF78004FB05+28789]\n\t(No symbol) [0x00007FF77FFB86E0]\n\t(No symbol) [0x00007FF77FE5592A]\n\t(No symbol) [0x00007FF77FEB0FDE]\n\t(No symbol) [0x00007FF77FEAEA7C]\n\t(No symbol) [0x00007FF77FEABC46]\n\t(No symbol) [0x00007FF77FEAABA1]\n\t(No symbol) [0x00007FF77FE9CD60]\n\t(No symbol) [0x00007FF77FECF43A]\n\t(No symbol) [0x00007FF77FE9C5B6]\n\t(No symbol) [0x00007FF77FECF650]\n\t(No symbol) [0x00007FF77FEEF654]\n\t(No symbol) [0x00007FF77FECF1E3]\n\t(No symbol) [0x00007FF77FE9A938]\n\t(No symbol) [0x00007FF77FE9BAA1]\n\tGetHandleVerifier [0x00007FF78038933D+3410093]\n\tGetHandleVerifier [0x00007FF78039E7DD+3497293]\n\tGetHandleVerifier [0x00007FF780392A73+3448803]\n\tGetHandleVerifier [0x00007FF780117BBB+848171]\n\t(No symbol) [0x00007FF77FFC3C3F]\n\t(No symbol) [0x00007FF77FFBF6E4]\n\t(No symbol) [0x00007FF77FFBF87D]\n\t(No symbol) [0x00007FF77FFAED49]\n\tBaseThreadInitThunk [0x00007FFB1991259D+29]\n\tRtlUserThreadStart [0x00007FFB1B40AF38+40]\n",
     "output_type": "error",
     "traceback": [
      "\u001b[1;31m---------------------------------------------------------------------------\u001b[0m",
      "\u001b[1;31mElementClickInterceptedException\u001b[0m          Traceback (most recent call last)",
      "Cell \u001b[1;32mIn[26], line 13\u001b[0m\n\u001b[0;32m     11\u001b[0m \u001b[38;5;66;03m# Submit the form\u001b[39;00m\n\u001b[0;32m     12\u001b[0m submit_button \u001b[38;5;241m=\u001b[39m driver\u001b[38;5;241m.\u001b[39mfind_element(By\u001b[38;5;241m.\u001b[39mXPATH, \u001b[38;5;124m\"\u001b[39m\u001b[38;5;124m//button[@type=\u001b[39m\u001b[38;5;124m'\u001b[39m\u001b[38;5;124msubmit\u001b[39m\u001b[38;5;124m'\u001b[39m\u001b[38;5;124m]\u001b[39m\u001b[38;5;124m\"\u001b[39m)\n\u001b[1;32m---> 13\u001b[0m \u001b[43msubmit_button\u001b[49m\u001b[38;5;241;43m.\u001b[39;49m\u001b[43mclick\u001b[49m\u001b[43m(\u001b[49m\u001b[43m)\u001b[49m\n\u001b[0;32m     15\u001b[0m \u001b[38;5;28mprint\u001b[39m(\u001b[38;5;124m\"\u001b[39m\u001b[38;5;124mForm submitted!\u001b[39m\u001b[38;5;124m\"\u001b[39m)\n",
      "File \u001b[1;32mc:\\Users\\andre\\AppData\\Local\\Programs\\Python\\Python313\\Lib\\site-packages\\selenium\\webdriver\\remote\\webelement.py:94\u001b[0m, in \u001b[0;36mWebElement.click\u001b[1;34m(self)\u001b[0m\n\u001b[0;32m     92\u001b[0m \u001b[38;5;28;01mdef\u001b[39;00m \u001b[38;5;21mclick\u001b[39m(\u001b[38;5;28mself\u001b[39m) \u001b[38;5;241m-\u001b[39m\u001b[38;5;241m>\u001b[39m \u001b[38;5;28;01mNone\u001b[39;00m:\n\u001b[0;32m     93\u001b[0m \u001b[38;5;250m    \u001b[39m\u001b[38;5;124;03m\"\"\"Clicks the element.\"\"\"\u001b[39;00m\n\u001b[1;32m---> 94\u001b[0m     \u001b[38;5;28;43mself\u001b[39;49m\u001b[38;5;241;43m.\u001b[39;49m\u001b[43m_execute\u001b[49m\u001b[43m(\u001b[49m\u001b[43mCommand\u001b[49m\u001b[38;5;241;43m.\u001b[39;49m\u001b[43mCLICK_ELEMENT\u001b[49m\u001b[43m)\u001b[49m\n",
      "File \u001b[1;32mc:\\Users\\andre\\AppData\\Local\\Programs\\Python\\Python313\\Lib\\site-packages\\selenium\\webdriver\\remote\\webelement.py:395\u001b[0m, in \u001b[0;36mWebElement._execute\u001b[1;34m(self, command, params)\u001b[0m\n\u001b[0;32m    393\u001b[0m     params \u001b[38;5;241m=\u001b[39m {}\n\u001b[0;32m    394\u001b[0m params[\u001b[38;5;124m\"\u001b[39m\u001b[38;5;124mid\u001b[39m\u001b[38;5;124m\"\u001b[39m] \u001b[38;5;241m=\u001b[39m \u001b[38;5;28mself\u001b[39m\u001b[38;5;241m.\u001b[39m_id\n\u001b[1;32m--> 395\u001b[0m \u001b[38;5;28;01mreturn\u001b[39;00m \u001b[38;5;28;43mself\u001b[39;49m\u001b[38;5;241;43m.\u001b[39;49m\u001b[43m_parent\u001b[49m\u001b[38;5;241;43m.\u001b[39;49m\u001b[43mexecute\u001b[49m\u001b[43m(\u001b[49m\u001b[43mcommand\u001b[49m\u001b[43m,\u001b[49m\u001b[43m \u001b[49m\u001b[43mparams\u001b[49m\u001b[43m)\u001b[49m\n",
      "File \u001b[1;32mc:\\Users\\andre\\AppData\\Local\\Programs\\Python\\Python313\\Lib\\site-packages\\selenium\\webdriver\\remote\\webdriver.py:384\u001b[0m, in \u001b[0;36mWebDriver.execute\u001b[1;34m(self, driver_command, params)\u001b[0m\n\u001b[0;32m    382\u001b[0m response \u001b[38;5;241m=\u001b[39m \u001b[38;5;28mself\u001b[39m\u001b[38;5;241m.\u001b[39mcommand_executor\u001b[38;5;241m.\u001b[39mexecute(driver_command, params)\n\u001b[0;32m    383\u001b[0m \u001b[38;5;28;01mif\u001b[39;00m response:\n\u001b[1;32m--> 384\u001b[0m     \u001b[38;5;28;43mself\u001b[39;49m\u001b[38;5;241;43m.\u001b[39;49m\u001b[43merror_handler\u001b[49m\u001b[38;5;241;43m.\u001b[39;49m\u001b[43mcheck_response\u001b[49m\u001b[43m(\u001b[49m\u001b[43mresponse\u001b[49m\u001b[43m)\u001b[49m\n\u001b[0;32m    385\u001b[0m     response[\u001b[38;5;124m\"\u001b[39m\u001b[38;5;124mvalue\u001b[39m\u001b[38;5;124m\"\u001b[39m] \u001b[38;5;241m=\u001b[39m \u001b[38;5;28mself\u001b[39m\u001b[38;5;241m.\u001b[39m_unwrap_value(response\u001b[38;5;241m.\u001b[39mget(\u001b[38;5;124m\"\u001b[39m\u001b[38;5;124mvalue\u001b[39m\u001b[38;5;124m\"\u001b[39m, \u001b[38;5;28;01mNone\u001b[39;00m))\n\u001b[0;32m    386\u001b[0m     \u001b[38;5;28;01mreturn\u001b[39;00m response\n",
      "File \u001b[1;32mc:\\Users\\andre\\AppData\\Local\\Programs\\Python\\Python313\\Lib\\site-packages\\selenium\\webdriver\\remote\\errorhandler.py:232\u001b[0m, in \u001b[0;36mErrorHandler.check_response\u001b[1;34m(self, response)\u001b[0m\n\u001b[0;32m    230\u001b[0m         alert_text \u001b[38;5;241m=\u001b[39m value[\u001b[38;5;124m\"\u001b[39m\u001b[38;5;124malert\u001b[39m\u001b[38;5;124m\"\u001b[39m]\u001b[38;5;241m.\u001b[39mget(\u001b[38;5;124m\"\u001b[39m\u001b[38;5;124mtext\u001b[39m\u001b[38;5;124m\"\u001b[39m)\n\u001b[0;32m    231\u001b[0m     \u001b[38;5;28;01mraise\u001b[39;00m exception_class(message, screen, stacktrace, alert_text)  \u001b[38;5;66;03m# type: ignore[call-arg]  # mypy is not smart enough here\u001b[39;00m\n\u001b[1;32m--> 232\u001b[0m \u001b[38;5;28;01mraise\u001b[39;00m exception_class(message, screen, stacktrace)\n",
      "\u001b[1;31mElementClickInterceptedException\u001b[0m: Message: element click intercepted: Element <button type=\"submit\" class=\"ws-btn\">...</button> is not clickable at point (164, 635). Other element would receive the click: <div class=\"sn-v-cell\">...</div>\n  (Session info: chrome=131.0.6778.205)\nStacktrace:\n\tGetHandleVerifier [0x00007FF78004FB05+28789]\n\t(No symbol) [0x00007FF77FFB86E0]\n\t(No symbol) [0x00007FF77FE5592A]\n\t(No symbol) [0x00007FF77FEB0FDE]\n\t(No symbol) [0x00007FF77FEAEA7C]\n\t(No symbol) [0x00007FF77FEABC46]\n\t(No symbol) [0x00007FF77FEAABA1]\n\t(No symbol) [0x00007FF77FE9CD60]\n\t(No symbol) [0x00007FF77FECF43A]\n\t(No symbol) [0x00007FF77FE9C5B6]\n\t(No symbol) [0x00007FF77FECF650]\n\t(No symbol) [0x00007FF77FEEF654]\n\t(No symbol) [0x00007FF77FECF1E3]\n\t(No symbol) [0x00007FF77FE9A938]\n\t(No symbol) [0x00007FF77FE9BAA1]\n\tGetHandleVerifier [0x00007FF78038933D+3410093]\n\tGetHandleVerifier [0x00007FF78039E7DD+3497293]\n\tGetHandleVerifier [0x00007FF780392A73+3448803]\n\tGetHandleVerifier [0x00007FF780117BBB+848171]\n\t(No symbol) [0x00007FF77FFC3C3F]\n\t(No symbol) [0x00007FF77FFBF6E4]\n\t(No symbol) [0x00007FF77FFBF87D]\n\t(No symbol) [0x00007FF77FFAED49]\n\tBaseThreadInitThunk [0x00007FFB1991259D+29]\n\tRtlUserThreadStart [0x00007FFB1B40AF38+40]\n"
     ]
    }
   ],
   "source": [
    "# Open example form\n",
    "driver.get(\"https://www.w3schools.com/html/html_forms.asp\")\n",
    "\n",
    "# Fill out the form\n",
    "name_field = driver.find_element(By.ID, \"fname\")\n",
    "name_field.send_keys(\"John Doe\")\n",
    "\n",
    "last_name_field = driver.find_element(By.ID, \"lname\")\n",
    "last_name_field.send_keys(\"Smith\")\n",
    "\n",
    "# Submit the form\n",
    "submit_button = driver.find_element(By.XPATH, \"//button[@type='submit']\")\n",
    "submit_button.click()\n",
    "\n",
    "print(\"Form submitted!\")"
   ]
  },
  {
   "cell_type": "markdown",
   "metadata": {},
   "source": [
    "#### Close the Browser"
   ]
  },
  {
   "cell_type": "code",
   "execution_count": 1,
   "metadata": {},
   "outputs": [
    {
     "ename": "NameError",
     "evalue": "name 'driver' is not defined",
     "output_type": "error",
     "traceback": [
      "\u001b[1;31m---------------------------------------------------------------------------\u001b[0m",
      "\u001b[1;31mNameError\u001b[0m                                 Traceback (most recent call last)",
      "Cell \u001b[1;32mIn[1], line 2\u001b[0m\n\u001b[0;32m      1\u001b[0m \u001b[38;5;66;03m# Close the browser\u001b[39;00m\n\u001b[1;32m----> 2\u001b[0m \u001b[43mdriver\u001b[49m\u001b[38;5;241m.\u001b[39mquit()\n",
      "\u001b[1;31mNameError\u001b[0m: name 'driver' is not defined"
     ]
    }
   ],
   "source": [
    "# Close the browser\n",
    "driver.quit()"
   ]
  }
 ],
 "metadata": {
  "kernelspec": {
   "display_name": "Python 3",
   "language": "python",
   "name": "python3"
  },
  "language_info": {
   "codemirror_mode": {
    "name": "ipython",
    "version": 3
   },
   "file_extension": ".py",
   "mimetype": "text/x-python",
   "name": "python",
   "nbconvert_exporter": "python",
   "pygments_lexer": "ipython3",
   "version": "3.13.1"
  }
 },
 "nbformat": 4,
 "nbformat_minor": 2
}
