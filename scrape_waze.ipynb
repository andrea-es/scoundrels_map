{
 "cells": [
  {
   "cell_type": "markdown",
   "metadata": {},
   "source": [
    "## Initialize"
   ]
  },
  {
   "cell_type": "markdown",
   "metadata": {},
   "source": [
    "#### Import All Required Libraries"
   ]
  },
  {
   "cell_type": "markdown",
   "metadata": {},
   "source": [
    "Basics"
   ]
  },
  {
   "cell_type": "code",
   "execution_count": 138,
   "metadata": {},
   "outputs": [],
   "source": [
    "import time\n",
    "import pandas as pd"
   ]
  },
  {
   "cell_type": "markdown",
   "metadata": {},
   "source": [
    "Selenium"
   ]
  },
  {
   "cell_type": "code",
   "execution_count": 139,
   "metadata": {},
   "outputs": [],
   "source": [
    "from selenium import webdriver\n",
    "from selenium.webdriver.common.by import By\n",
    "from selenium.webdriver.common.keys import Keys\n",
    "from selenium.webdriver.support.ui import WebDriverWait\n",
    "from selenium.webdriver.support import expected_conditions as EC\n",
    "from selenium.common.exceptions import TimeoutException, NoSuchElementException\n"
   ]
  },
  {
   "cell_type": "code",
   "execution_count": 140,
   "metadata": {},
   "outputs": [],
   "source": [
    "from selenium.webdriver.chrome.options import Options\n",
    "\n",
    "chrome_options = Options()\n",
    "chrome_options.add_argument(\"--disable-popup-blocking\")\n",
    "driver = webdriver.Chrome(options=chrome_options)"
   ]
  },
  {
   "cell_type": "markdown",
   "metadata": {},
   "source": [
    "Geopy"
   ]
  },
  {
   "cell_type": "code",
   "execution_count": 141,
   "metadata": {},
   "outputs": [],
   "source": [
    "from geopy.geocoders import Nominatim\n",
    "import requests"
   ]
  },
  {
   "cell_type": "markdown",
   "metadata": {},
   "source": [
    "#### Initialize and Open Chrome"
   ]
  },
  {
   "cell_type": "code",
   "execution_count": 142,
   "metadata": {},
   "outputs": [],
   "source": [
    "# Initialize Chrome WebDriver\n",
    "driver = webdriver.Chrome()\n",
    "\n",
    "# Open Google\n",
    "driver.get(\"https://www.google.com\")"
   ]
  },
  {
   "cell_type": "markdown",
   "metadata": {},
   "source": [
    "#### Handle Cookie Consent Popup"
   ]
  },
  {
   "cell_type": "markdown",
   "metadata": {},
   "source": [
    "works with Italian, may need to do another one for English"
   ]
  },
  {
   "cell_type": "code",
   "execution_count": 143,
   "metadata": {},
   "outputs": [
    {
     "name": "stdout",
     "output_type": "stream",
     "text": [
      "Cookie popup dismissed.\n"
     ]
    }
   ],
   "source": [
    "# Handle the cookie consent popup\n",
    "try:\n",
    "    WebDriverWait(driver, 5).until(\n",
    "        EC.element_to_be_clickable((By.XPATH, \"//button/div[text()='Rifiuta tutto']\"))\n",
    "    ).click()\n",
    "    print(\"Cookie popup dismissed.\")\n",
    "except:\n",
    "    print(\"No cookie popup found or already dismissed.\")\n"
   ]
  },
  {
   "cell_type": "markdown",
   "metadata": {},
   "source": [
    "## Waze"
   ]
  },
  {
   "cell_type": "markdown",
   "metadata": {},
   "source": [
    "#### Open Waze"
   ]
  },
  {
   "cell_type": "code",
   "execution_count": 144,
   "metadata": {},
   "outputs": [
    {
     "name": "stdout",
     "output_type": "stream",
     "text": [
      "Page title: Driving directions, live traffic & road conditions updates - Waze\n"
     ]
    }
   ],
   "source": [
    "# Open Waze Live Map\n",
    "driver.get(\"https://www.waze.com/live-map/\")\n",
    "\n",
    "# Print the page title to confirm successful navigation\n",
    "print(\"Page title:\", driver.title)"
   ]
  },
  {
   "cell_type": "code",
   "execution_count": 145,
   "metadata": {},
   "outputs": [
    {
     "name": "stdout",
     "output_type": "stream",
     "text": [
      "Clicked 'Got it' button.\n",
      "Clicked 'Agree' button.\n"
     ]
    }
   ],
   "source": [
    "# Click the \"Got it\" button\n",
    "try:\n",
    "    got_it_button = WebDriverWait(driver, 3).until(\n",
    "        EC.element_to_be_clickable((By.CLASS_NAME, \"waze-tour-tooltip__acknowledge\"))\n",
    "    )\n",
    "    got_it_button.click()\n",
    "    print(\"Clicked 'Got it' button.\")\n",
    "except Exception as e:\n",
    "    print(f\"Could not click 'Got it' button\")\n",
    "\n",
    "# Click the \"Agree\" button for cookies\n",
    "try:\n",
    "    agree_button = WebDriverWait(driver, 3).until(\n",
    "        EC.element_to_be_clickable((By.XPATH, \"//button[text()='Agree']\"))\n",
    "    )\n",
    "    agree_button.click()\n",
    "    print(\"Clicked 'Agree' button.\")\n",
    "except Exception as e:\n",
    "    print(f\"Could not click 'Agree' button\")\n"
   ]
  },
  {
   "cell_type": "markdown",
   "metadata": {},
   "source": [
    "#### Get coordinates of current location"
   ]
  },
  {
   "cell_type": "markdown",
   "metadata": {},
   "source": [
    "Use IP of current location to get approximate location (city, state/country)"
   ]
  },
  {
   "cell_type": "code",
   "execution_count": 146,
   "metadata": {},
   "outputs": [
    {
     "name": "stdout",
     "output_type": "stream",
     "text": [
      "City: Rome\n",
      "State/Region: Lazio\n",
      "Country: IT\n"
     ]
    }
   ],
   "source": [
    "# Get public IP address\n",
    "ip_data = requests.get(\"https://api.ipify.org?format=json\").json()\n",
    "ip_address = ip_data[\"ip\"]\n",
    "\n",
    "# Use an IP-based geolocation service\n",
    "geo_data = requests.get(f\"https://ipinfo.io/{ip_address}/json\").json()\n",
    "\n",
    "# Extract city, region (state), and country\n",
    "city = geo_data.get(\"city\", \"Unknown\")\n",
    "state = geo_data.get(\"region\", \"Unknown\")  # Some services call this 'region' instead of 'state'\n",
    "country = geo_data.get(\"country\", \"Unknown\")\n",
    "\n",
    "# Print the location details\n",
    "print(f\"City: {city}\")\n",
    "print(f\"State/Region: {state}\")\n",
    "print(f\"Country: {country}\")\n"
   ]
  },
  {
   "cell_type": "markdown",
   "metadata": {},
   "source": [
    "Use geolocation to get coordinates of current position"
   ]
  },
  {
   "cell_type": "code",
   "execution_count": 156,
   "metadata": {},
   "outputs": [
    {
     "ename": "NoSuchElementException",
     "evalue": "Message: no such element: Unable to locate element: {\"method\":\"xpath\",\"selector\":\"//span[contains(text(),'Consent')]\"}\n  (Session info: chrome=131.0.6778.205); For documentation on this error, please visit: https://www.selenium.dev/documentation/webdriver/troubleshooting/errors#no-such-element-exception\nStacktrace:\n\tGetHandleVerifier [0x00007FF6D440FB05+28789]\n\t(No symbol) [0x00007FF6D43786E0]\n\t(No symbol) [0x00007FF6D421592A]\n\t(No symbol) [0x00007FF6D426930E]\n\t(No symbol) [0x00007FF6D42695FC]\n\t(No symbol) [0x00007FF6D42B28A7]\n\t(No symbol) [0x00007FF6D428F47F]\n\t(No symbol) [0x00007FF6D42AF654]\n\t(No symbol) [0x00007FF6D428F1E3]\n\t(No symbol) [0x00007FF6D425A938]\n\t(No symbol) [0x00007FF6D425BAA1]\n\tGetHandleVerifier [0x00007FF6D474933D+3410093]\n\tGetHandleVerifier [0x00007FF6D475E7DD+3497293]\n\tGetHandleVerifier [0x00007FF6D4752A73+3448803]\n\tGetHandleVerifier [0x00007FF6D44D7BBB+848171]\n\t(No symbol) [0x00007FF6D4383C3F]\n\t(No symbol) [0x00007FF6D437F6E4]\n\t(No symbol) [0x00007FF6D437F87D]\n\t(No symbol) [0x00007FF6D436ED49]\n\tBaseThreadInitThunk [0x00007FFFB04C259D+29]\n\tRtlUserThreadStart [0x00007FFFB1CEAF38+40]\n",
     "output_type": "error",
     "traceback": [
      "\u001b[1;31m---------------------------------------------------------------------------\u001b[0m",
      "\u001b[1;31mNoSuchElementException\u001b[0m                    Traceback (most recent call last)",
      "Cell \u001b[1;32mIn[156], line 6\u001b[0m\n\u001b[0;32m      3\u001b[0m driver\u001b[38;5;241m.\u001b[39mexecute_script(\u001b[38;5;124m\"\u001b[39m\u001b[38;5;124mwindow.open(\u001b[39m\u001b[38;5;124m'\u001b[39m\u001b[38;5;124mhttps://www.gps-coordinates.net/my-location\u001b[39m\u001b[38;5;124m'\u001b[39m\u001b[38;5;124m, \u001b[39m\u001b[38;5;124m'\u001b[39m\u001b[38;5;124m_blank\u001b[39m\u001b[38;5;124m'\u001b[39m\u001b[38;5;124m);\u001b[39m\u001b[38;5;124m\"\u001b[39m)\n\u001b[0;32m      5\u001b[0m time\u001b[38;5;241m.\u001b[39msleep(\u001b[38;5;241m3\u001b[39m)\n\u001b[1;32m----> 6\u001b[0m consent_button \u001b[38;5;241m=\u001b[39m \u001b[43mdriver\u001b[49m\u001b[38;5;241;43m.\u001b[39;49m\u001b[43mfind_element\u001b[49m\u001b[43m(\u001b[49m\u001b[43mBy\u001b[49m\u001b[38;5;241;43m.\u001b[39;49m\u001b[43mXPATH\u001b[49m\u001b[43m,\u001b[49m\u001b[43m \u001b[49m\u001b[38;5;124;43m\"\u001b[39;49m\u001b[38;5;124;43m//span[contains(text(),\u001b[39;49m\u001b[38;5;124;43m'\u001b[39;49m\u001b[38;5;124;43mConsent\u001b[39;49m\u001b[38;5;124;43m'\u001b[39;49m\u001b[38;5;124;43m)]\u001b[39;49m\u001b[38;5;124;43m\"\u001b[39;49m\u001b[43m)\u001b[49m\n\u001b[0;32m      7\u001b[0m driver\u001b[38;5;241m.\u001b[39mexecute_script(\u001b[38;5;124m\"\u001b[39m\u001b[38;5;124marguments[0].click();\u001b[39m\u001b[38;5;124m\"\u001b[39m, consent_button)\n",
      "File \u001b[1;32mc:\\Users\\andre\\AppData\\Local\\Programs\\Python\\Python313\\Lib\\site-packages\\selenium\\webdriver\\remote\\webdriver.py:770\u001b[0m, in \u001b[0;36mWebDriver.find_element\u001b[1;34m(self, by, value)\u001b[0m\n\u001b[0;32m    767\u001b[0m         \u001b[38;5;28;01mraise\u001b[39;00m NoSuchElementException(\u001b[38;5;124mf\u001b[39m\u001b[38;5;124m\"\u001b[39m\u001b[38;5;124mCannot locate relative element with: \u001b[39m\u001b[38;5;132;01m{\u001b[39;00mby\u001b[38;5;241m.\u001b[39mroot\u001b[38;5;132;01m}\u001b[39;00m\u001b[38;5;124m\"\u001b[39m)\n\u001b[0;32m    768\u001b[0m     \u001b[38;5;28;01mreturn\u001b[39;00m elements[\u001b[38;5;241m0\u001b[39m]\n\u001b[1;32m--> 770\u001b[0m \u001b[38;5;28;01mreturn\u001b[39;00m \u001b[38;5;28;43mself\u001b[39;49m\u001b[38;5;241;43m.\u001b[39;49m\u001b[43mexecute\u001b[49m\u001b[43m(\u001b[49m\u001b[43mCommand\u001b[49m\u001b[38;5;241;43m.\u001b[39;49m\u001b[43mFIND_ELEMENT\u001b[49m\u001b[43m,\u001b[49m\u001b[43m \u001b[49m\u001b[43m{\u001b[49m\u001b[38;5;124;43m\"\u001b[39;49m\u001b[38;5;124;43musing\u001b[39;49m\u001b[38;5;124;43m\"\u001b[39;49m\u001b[43m:\u001b[49m\u001b[43m \u001b[49m\u001b[43mby\u001b[49m\u001b[43m,\u001b[49m\u001b[43m \u001b[49m\u001b[38;5;124;43m\"\u001b[39;49m\u001b[38;5;124;43mvalue\u001b[39;49m\u001b[38;5;124;43m\"\u001b[39;49m\u001b[43m:\u001b[49m\u001b[43m \u001b[49m\u001b[43mvalue\u001b[49m\u001b[43m}\u001b[49m\u001b[43m)\u001b[49m[\u001b[38;5;124m\"\u001b[39m\u001b[38;5;124mvalue\u001b[39m\u001b[38;5;124m\"\u001b[39m]\n",
      "File \u001b[1;32mc:\\Users\\andre\\AppData\\Local\\Programs\\Python\\Python313\\Lib\\site-packages\\selenium\\webdriver\\remote\\webdriver.py:384\u001b[0m, in \u001b[0;36mWebDriver.execute\u001b[1;34m(self, driver_command, params)\u001b[0m\n\u001b[0;32m    382\u001b[0m response \u001b[38;5;241m=\u001b[39m \u001b[38;5;28mself\u001b[39m\u001b[38;5;241m.\u001b[39mcommand_executor\u001b[38;5;241m.\u001b[39mexecute(driver_command, params)\n\u001b[0;32m    383\u001b[0m \u001b[38;5;28;01mif\u001b[39;00m response:\n\u001b[1;32m--> 384\u001b[0m     \u001b[38;5;28;43mself\u001b[39;49m\u001b[38;5;241;43m.\u001b[39;49m\u001b[43merror_handler\u001b[49m\u001b[38;5;241;43m.\u001b[39;49m\u001b[43mcheck_response\u001b[49m\u001b[43m(\u001b[49m\u001b[43mresponse\u001b[49m\u001b[43m)\u001b[49m\n\u001b[0;32m    385\u001b[0m     response[\u001b[38;5;124m\"\u001b[39m\u001b[38;5;124mvalue\u001b[39m\u001b[38;5;124m\"\u001b[39m] \u001b[38;5;241m=\u001b[39m \u001b[38;5;28mself\u001b[39m\u001b[38;5;241m.\u001b[39m_unwrap_value(response\u001b[38;5;241m.\u001b[39mget(\u001b[38;5;124m\"\u001b[39m\u001b[38;5;124mvalue\u001b[39m\u001b[38;5;124m\"\u001b[39m, \u001b[38;5;28;01mNone\u001b[39;00m))\n\u001b[0;32m    386\u001b[0m     \u001b[38;5;28;01mreturn\u001b[39;00m response\n",
      "File \u001b[1;32mc:\\Users\\andre\\AppData\\Local\\Programs\\Python\\Python313\\Lib\\site-packages\\selenium\\webdriver\\remote\\errorhandler.py:232\u001b[0m, in \u001b[0;36mErrorHandler.check_response\u001b[1;34m(self, response)\u001b[0m\n\u001b[0;32m    230\u001b[0m         alert_text \u001b[38;5;241m=\u001b[39m value[\u001b[38;5;124m\"\u001b[39m\u001b[38;5;124malert\u001b[39m\u001b[38;5;124m\"\u001b[39m]\u001b[38;5;241m.\u001b[39mget(\u001b[38;5;124m\"\u001b[39m\u001b[38;5;124mtext\u001b[39m\u001b[38;5;124m\"\u001b[39m)\n\u001b[0;32m    231\u001b[0m     \u001b[38;5;28;01mraise\u001b[39;00m exception_class(message, screen, stacktrace, alert_text)  \u001b[38;5;66;03m# type: ignore[call-arg]  # mypy is not smart enough here\u001b[39;00m\n\u001b[1;32m--> 232\u001b[0m \u001b[38;5;28;01mraise\u001b[39;00m exception_class(message, screen, stacktrace)\n",
      "\u001b[1;31mNoSuchElementException\u001b[0m: Message: no such element: Unable to locate element: {\"method\":\"xpath\",\"selector\":\"//span[contains(text(),'Consent')]\"}\n  (Session info: chrome=131.0.6778.205); For documentation on this error, please visit: https://www.selenium.dev/documentation/webdriver/troubleshooting/errors#no-such-element-exception\nStacktrace:\n\tGetHandleVerifier [0x00007FF6D440FB05+28789]\n\t(No symbol) [0x00007FF6D43786E0]\n\t(No symbol) [0x00007FF6D421592A]\n\t(No symbol) [0x00007FF6D426930E]\n\t(No symbol) [0x00007FF6D42695FC]\n\t(No symbol) [0x00007FF6D42B28A7]\n\t(No symbol) [0x00007FF6D428F47F]\n\t(No symbol) [0x00007FF6D42AF654]\n\t(No symbol) [0x00007FF6D428F1E3]\n\t(No symbol) [0x00007FF6D425A938]\n\t(No symbol) [0x00007FF6D425BAA1]\n\tGetHandleVerifier [0x00007FF6D474933D+3410093]\n\tGetHandleVerifier [0x00007FF6D475E7DD+3497293]\n\tGetHandleVerifier [0x00007FF6D4752A73+3448803]\n\tGetHandleVerifier [0x00007FF6D44D7BBB+848171]\n\t(No symbol) [0x00007FF6D4383C3F]\n\t(No symbol) [0x00007FF6D437F6E4]\n\t(No symbol) [0x00007FF6D437F87D]\n\t(No symbol) [0x00007FF6D436ED49]\n\tBaseThreadInitThunk [0x00007FFFB04C259D+29]\n\tRtlUserThreadStart [0x00007FFFB1CEAF38+40]\n"
     ]
    }
   ],
   "source": [
    "# Open a new tab and navigate to mylocation.org\n",
    "driver.switch_to.window(driver.window_handles[-1])  # Switch to the new tab\n",
    "driver.execute_script(\"window.open('https://www.gps-coordinates.net/my-location', '_blank');\")\n",
    "\n",
    "time.sleep(3)\n",
    "consent_button = driver.find_element(By.XPATH, \"//span[contains(text(),'Consent')]\")\n",
    "driver.execute_script(\"arguments[0].click();\", consent_button)\n",
    "\n"
   ]
  },
  {
   "cell_type": "code",
   "execution_count": 135,
   "metadata": {},
   "outputs": [
    {
     "name": "stdout",
     "output_type": "stream",
     "text": [
      "Could not scrape coordinates: Message: no such element: Unable to locate element: {\"method\":\"css selector\",\"selector\":\"[id=\"lat\"]\"}\n",
      "  (Session info: chrome=131.0.6778.205); For documentation on this error, please visit: https://www.selenium.dev/documentation/webdriver/troubleshooting/errors#no-such-element-exception\n",
      "Stacktrace:\n",
      "\tGetHandleVerifier [0x00007FF6D440FB05+28789]\n",
      "\t(No symbol) [0x00007FF6D43786E0]\n",
      "\t(No symbol) [0x00007FF6D421592A]\n",
      "\t(No symbol) [0x00007FF6D426930E]\n",
      "\t(No symbol) [0x00007FF6D42695FC]\n",
      "\t(No symbol) [0x00007FF6D42B28A7]\n",
      "\t(No symbol) [0x00007FF6D428F47F]\n",
      "\t(No symbol) [0x00007FF6D42AF654]\n",
      "\t(No symbol) [0x00007FF6D428F1E3]\n",
      "\t(No symbol) [0x00007FF6D425A938]\n",
      "\t(No symbol) [0x00007FF6D425BAA1]\n",
      "\tGetHandleVerifier [0x00007FF6D474933D+3410093]\n",
      "\tGetHandleVerifier [0x00007FF6D475E7DD+3497293]\n",
      "\tGetHandleVerifier [0x00007FF6D4752A73+3448803]\n",
      "\tGetHandleVerifier [0x00007FF6D44D7BBB+848171]\n",
      "\t(No symbol) [0x00007FF6D4383C3F]\n",
      "\t(No symbol) [0x00007FF6D437F6E4]\n",
      "\t(No symbol) [0x00007FF6D437F87D]\n",
      "\t(No symbol) [0x00007FF6D436ED49]\n",
      "\tBaseThreadInitThunk [0x00007FFFB04C259D+29]\n",
      "\tRtlUserThreadStart [0x00007FFFB1CEAF38+40]\n",
      "\n",
      "Switched back to the original webpage\n"
     ]
    }
   ],
   "source": [
    "try:\n",
    "    wait = WebDriverWait(driver, 10)\n",
    "    # Locate the element containing the coordinates using its unique attributes\n",
    "    latitude_element = driver.find_element(By.ID, \"lat\")\n",
    "    longitude_element = driver.find_element(By.ID, \"lng\")\n",
    "    \n",
    "    # Extract the latitude text\n",
    "    current_latitude = latitude_element.text\n",
    "    current_longitude = longitude_element.text\n",
    "    print(\"Latitude:\", current_latitude)\n",
    "    print(\"Longitude:\", current_longitude)\n",
    "\n",
    "except Exception as e:\n",
    "    print(f\"Could not scrape coordinates: {e}\")\n",
    "\n",
    "finally:\n",
    "    # Switch back to the original tab\n",
    "    driver.switch_to.window(driver.window_handles[0])  # Switch to the first tab\n",
    "    print(\"Switched back to the original webpage\")"
   ]
  },
  {
   "cell_type": "markdown",
   "metadata": {},
   "source": [
    "#### Get destination"
   ]
  },
  {
   "cell_type": "markdown",
   "metadata": {},
   "source": [
    "Get origin and destination from Waze"
   ]
  },
  {
   "cell_type": "code",
   "execution_count": 136,
   "metadata": {},
   "outputs": [
    {
     "ename": "KeyboardInterrupt",
     "evalue": "",
     "output_type": "error",
     "traceback": [
      "\u001b[1;31m---------------------------------------------------------------------------\u001b[0m",
      "\u001b[1;31mKeyboardInterrupt\u001b[0m                         Traceback (most recent call last)",
      "Cell \u001b[1;32mIn[136], line 2\u001b[0m\n\u001b[0;32m      1\u001b[0m \u001b[38;5;66;03m# Wait for the origin and destination elements to load\u001b[39;00m\n\u001b[1;32m----> 2\u001b[0m origin_element \u001b[38;5;241m=\u001b[39m \u001b[43mWebDriverWait\u001b[49m\u001b[43m(\u001b[49m\u001b[43mdriver\u001b[49m\u001b[43m,\u001b[49m\u001b[43m \u001b[49m\u001b[38;5;241;43m10\u001b[39;49m\u001b[43m)\u001b[49m\u001b[38;5;241;43m.\u001b[39;49m\u001b[43muntil\u001b[49m\u001b[43m(\u001b[49m\n\u001b[0;32m      3\u001b[0m \u001b[43m    \u001b[49m\u001b[43mEC\u001b[49m\u001b[38;5;241;43m.\u001b[39;49m\u001b[43mpresence_of_element_located\u001b[49m\u001b[43m(\u001b[49m\u001b[43m(\u001b[49m\u001b[43mBy\u001b[49m\u001b[38;5;241;43m.\u001b[39;49m\u001b[43mCSS_SELECTOR\u001b[49m\u001b[43m,\u001b[49m\u001b[43m \u001b[49m\u001b[38;5;124;43m\"\u001b[39;49m\u001b[38;5;124;43m.wz-search-container.is-origin .wm-search__primary\u001b[39;49m\u001b[38;5;124;43m\"\u001b[39;49m\u001b[43m)\u001b[49m\u001b[43m)\u001b[49m\n\u001b[0;32m      4\u001b[0m \u001b[43m)\u001b[49m\n\u001b[0;32m      5\u001b[0m destination_element \u001b[38;5;241m=\u001b[39m WebDriverWait(driver, \u001b[38;5;241m10\u001b[39m)\u001b[38;5;241m.\u001b[39muntil(\n\u001b[0;32m      6\u001b[0m     EC\u001b[38;5;241m.\u001b[39mpresence_of_element_located((By\u001b[38;5;241m.\u001b[39mCSS_SELECTOR, \u001b[38;5;124m\"\u001b[39m\u001b[38;5;124m.wz-search-container.is-destination .wm-search__primary\u001b[39m\u001b[38;5;124m\"\u001b[39m))\n\u001b[0;32m      7\u001b[0m )\n\u001b[0;32m      9\u001b[0m \u001b[38;5;66;03m# Extract the text content of both elements\u001b[39;00m\n",
      "File \u001b[1;32mc:\\Users\\andre\\AppData\\Local\\Programs\\Python\\Python313\\Lib\\site-packages\\selenium\\webdriver\\support\\wait.py:104\u001b[0m, in \u001b[0;36mWebDriverWait.until\u001b[1;34m(self, method, message)\u001b[0m\n\u001b[0;32m    102\u001b[0m     \u001b[38;5;28;01mif\u001b[39;00m time\u001b[38;5;241m.\u001b[39mmonotonic() \u001b[38;5;241m>\u001b[39m end_time:\n\u001b[0;32m    103\u001b[0m         \u001b[38;5;28;01mbreak\u001b[39;00m\n\u001b[1;32m--> 104\u001b[0m     \u001b[43mtime\u001b[49m\u001b[38;5;241;43m.\u001b[39;49m\u001b[43msleep\u001b[49m\u001b[43m(\u001b[49m\u001b[38;5;28;43mself\u001b[39;49m\u001b[38;5;241;43m.\u001b[39;49m\u001b[43m_poll\u001b[49m\u001b[43m)\u001b[49m\n\u001b[0;32m    105\u001b[0m \u001b[38;5;28;01mraise\u001b[39;00m TimeoutException(message, screen, stacktrace)\n",
      "\u001b[1;31mKeyboardInterrupt\u001b[0m: "
     ]
    }
   ],
   "source": [
    "# Wait for the origin and destination elements to load\n",
    "origin_element = WebDriverWait(driver, 10).until(\n",
    "    EC.presence_of_element_located((By.CSS_SELECTOR, \".wz-search-container.is-origin .wm-search__primary\"))\n",
    ")\n",
    "destination_element = WebDriverWait(driver, 10).until(\n",
    "    EC.presence_of_element_located((By.CSS_SELECTOR, \".wz-search-container.is-destination .wm-search__primary\"))\n",
    ")\n",
    "\n",
    "# Extract the text content of both elements\n",
    "origin = origin_element.text\n",
    "destination = destination_element.text\n",
    "\n",
    "print(f\"Origin: {origin}\")\n",
    "print(f\"Destination: {destination}\")"
   ]
  },
  {
   "cell_type": "code",
   "execution_count": null,
   "metadata": {},
   "outputs": [
    {
     "name": "stdout",
     "output_type": "stream",
     "text": [
      "Address: Via Nino Oxilia, Parioli, Municipio Roma II, Roma, Roma Capitale, Lazio, 00197, Italia\n",
      "Latitude: 41.92593794764345, Longitude: 12.49264264925796\n"
     ]
    }
   ],
   "source": [
    "# Initialize the geolocator\n",
    "geolocator = Nominatim(user_agent=\"my_geocoder\")\n",
    "\n",
    "# Destination address (scraped address, city and state from IP)\n",
    "destination_address = f\"{destination}, {city}, {state}\"\n",
    "\n",
    "# Get location details\n",
    "location = geolocator.geocode(destination_address)\n",
    "\n",
    "# Check if a location was found\n",
    "if location:\n",
    "    print(f\"Address: {location.address}\")\n",
    "    print(f\"Latitude: {location.latitude}, Longitude: {location.longitude}\")\n",
    "else:\n",
    "    print(\"Could not find coordinates for the destination.\")"
   ]
  },
  {
   "cell_type": "markdown",
   "metadata": {},
   "source": [
    "#### Locate Markers"
   ]
  },
  {
   "cell_type": "code",
   "execution_count": 100,
   "metadata": {},
   "outputs": [
    {
     "data": {
      "text/html": [
       "<div>\n",
       "<style scoped>\n",
       "    .dataframe tbody tr th:only-of-type {\n",
       "        vertical-align: middle;\n",
       "    }\n",
       "\n",
       "    .dataframe tbody tr th {\n",
       "        vertical-align: top;\n",
       "    }\n",
       "\n",
       "    .dataframe thead th {\n",
       "        text-align: right;\n",
       "    }\n",
       "</style>\n",
       "<table border=\"1\" class=\"dataframe\">\n",
       "  <thead>\n",
       "    <tr style=\"text-align: right;\">\n",
       "      <th></th>\n",
       "      <th>Event Type</th>\n",
       "      <th>Class</th>\n",
       "      <th>Location</th>\n",
       "    </tr>\n",
       "  </thead>\n",
       "  <tbody>\n",
       "    <tr>\n",
       "      <th>0</th>\n",
       "      <td>police</td>\n",
       "      <td>leaflet-marker-icon wm-alert-icon wm-alert-ico...</td>\n",
       "      <td>{'x': 994, 'y': 494}</td>\n",
       "    </tr>\n",
       "    <tr>\n",
       "      <th>1</th>\n",
       "      <td>police</td>\n",
       "      <td>leaflet-marker-icon wm-alert-icon wm-alert-ico...</td>\n",
       "      <td>{'x': 1092, 'y': 369}</td>\n",
       "    </tr>\n",
       "    <tr>\n",
       "      <th>2</th>\n",
       "      <td>road-closed</td>\n",
       "      <td>leaflet-marker-icon wm-alert-cluster-icon wm-a...</td>\n",
       "      <td>{'x': 1082, 'y': 119}</td>\n",
       "    </tr>\n",
       "    <tr>\n",
       "      <th>3</th>\n",
       "      <td>police</td>\n",
       "      <td>leaflet-marker-icon wm-alert-icon wm-alert-ico...</td>\n",
       "      <td>{'x': 360, 'y': -58}</td>\n",
       "    </tr>\n",
       "    <tr>\n",
       "      <th>4</th>\n",
       "      <td>police</td>\n",
       "      <td>leaflet-marker-icon wm-alert-icon wm-alert-ico...</td>\n",
       "      <td>{'x': 868, 'y': 510}</td>\n",
       "    </tr>\n",
       "    <tr>\n",
       "      <th>5</th>\n",
       "      <td>road-closed</td>\n",
       "      <td>leaflet-marker-icon wm-alert-icon wm-alert-ico...</td>\n",
       "      <td>{'x': 688, 'y': 455}</td>\n",
       "    </tr>\n",
       "    <tr>\n",
       "      <th>6</th>\n",
       "      <td>accident</td>\n",
       "      <td>leaflet-marker-icon wm-alert-cluster-icon wm-a...</td>\n",
       "      <td>{'x': 1, 'y': 307}</td>\n",
       "    </tr>\n",
       "    <tr>\n",
       "      <th>7</th>\n",
       "      <td>road-closed</td>\n",
       "      <td>leaflet-marker-icon wm-alert-icon wm-alert-ico...</td>\n",
       "      <td>{'x': 490, 'y': 652}</td>\n",
       "    </tr>\n",
       "    <tr>\n",
       "      <th>8</th>\n",
       "      <td>road-closed</td>\n",
       "      <td>leaflet-marker-icon wm-alert-cluster-icon wm-a...</td>\n",
       "      <td>{'x': 387, 'y': 671}</td>\n",
       "    </tr>\n",
       "    <tr>\n",
       "      <th>9</th>\n",
       "      <td>police</td>\n",
       "      <td>leaflet-marker-icon wm-alert-icon wm-alert-ico...</td>\n",
       "      <td>{'x': 886, 'y': 251}</td>\n",
       "    </tr>\n",
       "    <tr>\n",
       "      <th>10</th>\n",
       "      <td>road-closed</td>\n",
       "      <td>leaflet-marker-icon wm-alert-cluster-icon wm-a...</td>\n",
       "      <td>{'x': 700, 'y': 202}</td>\n",
       "    </tr>\n",
       "    <tr>\n",
       "      <th>11</th>\n",
       "      <td>police</td>\n",
       "      <td>leaflet-marker-icon wm-alert-icon wm-alert-ico...</td>\n",
       "      <td>{'x': 88, 'y': 213}</td>\n",
       "    </tr>\n",
       "    <tr>\n",
       "      <th>12</th>\n",
       "      <td>road-closed</td>\n",
       "      <td>leaflet-marker-icon wm-alert-cluster-icon wm-a...</td>\n",
       "      <td>{'x': 434, 'y': 146}</td>\n",
       "    </tr>\n",
       "    <tr>\n",
       "      <th>13</th>\n",
       "      <td>road-closed</td>\n",
       "      <td>leaflet-marker-icon wm-alert-icon wm-alert-ico...</td>\n",
       "      <td>{'x': 518, 'y': 397}</td>\n",
       "    </tr>\n",
       "    <tr>\n",
       "      <th>14</th>\n",
       "      <td>road-closed</td>\n",
       "      <td>leaflet-marker-icon wm-alert-cluster-icon wm-a...</td>\n",
       "      <td>{'x': 507, 'y': 297}</td>\n",
       "    </tr>\n",
       "    <tr>\n",
       "      <th>15</th>\n",
       "      <td>road-closed</td>\n",
       "      <td>leaflet-marker-icon wm-alert-cluster-icon wm-a...</td>\n",
       "      <td>{'x': 326, 'y': 278}</td>\n",
       "    </tr>\n",
       "    <tr>\n",
       "      <th>16</th>\n",
       "      <td>road-closed</td>\n",
       "      <td>leaflet-marker-icon wm-alert-cluster-icon wm-a...</td>\n",
       "      <td>{'x': 301, 'y': 204}</td>\n",
       "    </tr>\n",
       "    <tr>\n",
       "      <th>17</th>\n",
       "      <td>road-closed</td>\n",
       "      <td>leaflet-marker-icon wm-alert-icon wm-alert-ico...</td>\n",
       "      <td>{'x': 1120, 'y': 571}</td>\n",
       "    </tr>\n",
       "    <tr>\n",
       "      <th>18</th>\n",
       "      <td>road-closed</td>\n",
       "      <td>leaflet-marker-icon wm-alert-icon wm-alert-ico...</td>\n",
       "      <td>{'x': 72, 'y': 35}</td>\n",
       "    </tr>\n",
       "    <tr>\n",
       "      <th>19</th>\n",
       "      <td>road-closed</td>\n",
       "      <td>leaflet-marker-icon wm-alert-icon wm-alert-ico...</td>\n",
       "      <td>{'x': 80, 'y': 592}</td>\n",
       "    </tr>\n",
       "    <tr>\n",
       "      <th>20</th>\n",
       "      <td>road-closed</td>\n",
       "      <td>leaflet-marker-icon wm-alert-cluster-icon wm-a...</td>\n",
       "      <td>{'x': 380, 'y': 673}</td>\n",
       "    </tr>\n",
       "    <tr>\n",
       "      <th>21</th>\n",
       "      <td>road-closed</td>\n",
       "      <td>leaflet-marker-icon wm-alert-cluster-icon wm-a...</td>\n",
       "      <td>{'x': 268, 'y': 314}</td>\n",
       "    </tr>\n",
       "    <tr>\n",
       "      <th>22</th>\n",
       "      <td>road-closed</td>\n",
       "      <td>leaflet-marker-icon wm-alert-icon wm-alert-ico...</td>\n",
       "      <td>{'x': 88, 'y': 232}</td>\n",
       "    </tr>\n",
       "    <tr>\n",
       "      <th>23</th>\n",
       "      <td>road-closed</td>\n",
       "      <td>leaflet-marker-icon wm-alert-cluster-icon wm-a...</td>\n",
       "      <td>{'x': 15, 'y': 185}</td>\n",
       "    </tr>\n",
       "    <tr>\n",
       "      <th>24</th>\n",
       "      <td>road-closed</td>\n",
       "      <td>leaflet-marker-icon wm-alert-icon wm-alert-ico...</td>\n",
       "      <td>{'x': 1086, 'y': -10}</td>\n",
       "    </tr>\n",
       "    <tr>\n",
       "      <th>25</th>\n",
       "      <td>road-closed</td>\n",
       "      <td>leaflet-marker-icon wm-alert-cluster-icon wm-a...</td>\n",
       "      <td>{'x': 1068, 'y': 96}</td>\n",
       "    </tr>\n",
       "    <tr>\n",
       "      <th>26</th>\n",
       "      <td>road-closed</td>\n",
       "      <td>leaflet-marker-icon wm-alert-icon wm-alert-ico...</td>\n",
       "      <td>{'x': 524, 'y': 383}</td>\n",
       "    </tr>\n",
       "    <tr>\n",
       "      <th>27</th>\n",
       "      <td>road-closed</td>\n",
       "      <td>leaflet-marker-icon wm-alert-cluster-icon wm-a...</td>\n",
       "      <td>{'x': 511, 'y': 298}</td>\n",
       "    </tr>\n",
       "    <tr>\n",
       "      <th>28</th>\n",
       "      <td>road-closed</td>\n",
       "      <td>leaflet-marker-icon wm-alert-icon wm-alert-ico...</td>\n",
       "      <td>{'x': 362, 'y': -58}</td>\n",
       "    </tr>\n",
       "    <tr>\n",
       "      <th>29</th>\n",
       "      <td>road-closed</td>\n",
       "      <td>leaflet-marker-icon wm-alert-icon wm-alert-ico...</td>\n",
       "      <td>{'x': 426, 'y': 130}</td>\n",
       "    </tr>\n",
       "    <tr>\n",
       "      <th>30</th>\n",
       "      <td>road-closed</td>\n",
       "      <td>leaflet-marker-icon wm-alert-cluster-icon wm-a...</td>\n",
       "      <td>{'x': 391, 'y': 65}</td>\n",
       "    </tr>\n",
       "    <tr>\n",
       "      <th>31</th>\n",
       "      <td>police</td>\n",
       "      <td>leaflet-marker-icon wm-alert-icon wm-alert-ico...</td>\n",
       "      <td>{'x': 290, 'y': 170}</td>\n",
       "    </tr>\n",
       "    <tr>\n",
       "      <th>32</th>\n",
       "      <td>road-closed</td>\n",
       "      <td>leaflet-marker-icon wm-alert-icon wm-alert-ico...</td>\n",
       "      <td>{'x': 412, 'y': 279}</td>\n",
       "    </tr>\n",
       "    <tr>\n",
       "      <th>33</th>\n",
       "      <td>road-closed</td>\n",
       "      <td>leaflet-marker-icon wm-alert-cluster-icon wm-a...</td>\n",
       "      <td>{'x': 328, 'y': 226}</td>\n",
       "    </tr>\n",
       "    <tr>\n",
       "      <th>34</th>\n",
       "      <td>police</td>\n",
       "      <td>leaflet-marker-icon wm-alert-icon wm-alert-ico...</td>\n",
       "      <td>{'x': 580, 'y': 78}</td>\n",
       "    </tr>\n",
       "    <tr>\n",
       "      <th>35</th>\n",
       "      <td>police</td>\n",
       "      <td>leaflet-marker-icon wm-alert-icon wm-alert-ico...</td>\n",
       "      <td>{'x': 756, 'y': 329}</td>\n",
       "    </tr>\n",
       "    <tr>\n",
       "      <th>36</th>\n",
       "      <td>road-closed</td>\n",
       "      <td>leaflet-marker-icon wm-alert-icon wm-alert-ico...</td>\n",
       "      <td>{'x': 720, 'y': 214}</td>\n",
       "    </tr>\n",
       "    <tr>\n",
       "      <th>37</th>\n",
       "      <td>road-closed</td>\n",
       "      <td>leaflet-marker-icon wm-alert-icon wm-alert-ico...</td>\n",
       "      <td>{'x': 750, 'y': 133}</td>\n",
       "    </tr>\n",
       "    <tr>\n",
       "      <th>38</th>\n",
       "      <td>road-closed</td>\n",
       "      <td>leaflet-marker-icon wm-alert-cluster-icon wm-a...</td>\n",
       "      <td>{'x': 658, 'y': 180}</td>\n",
       "    </tr>\n",
       "    <tr>\n",
       "      <th>39</th>\n",
       "      <td>road-closed</td>\n",
       "      <td>leaflet-marker-icon wm-alert-icon wm-alert-ico...</td>\n",
       "      <td>{'x': 30, 'y': 179}</td>\n",
       "    </tr>\n",
       "    <tr>\n",
       "      <th>40</th>\n",
       "      <td>road-closed</td>\n",
       "      <td>leaflet-marker-icon wm-alert-icon wm-alert-ico...</td>\n",
       "      <td>{'x': 78, 'y': 594}</td>\n",
       "    </tr>\n",
       "    <tr>\n",
       "      <th>41</th>\n",
       "      <td>road-closed</td>\n",
       "      <td>leaflet-marker-icon wm-alert-icon wm-alert-ico...</td>\n",
       "      <td>{'x': 514, 'y': 294}</td>\n",
       "    </tr>\n",
       "    <tr>\n",
       "      <th>42</th>\n",
       "      <td>road-closed</td>\n",
       "      <td>leaflet-marker-icon wm-alert-cluster-icon wm-a...</td>\n",
       "      <td>{'x': 681, 'y': 206}</td>\n",
       "    </tr>\n",
       "    <tr>\n",
       "      <th>43</th>\n",
       "      <td>road-closed</td>\n",
       "      <td>leaflet-marker-icon wm-alert-icon wm-alert-ico...</td>\n",
       "      <td>{'x': 334, 'y': 289}</td>\n",
       "    </tr>\n",
       "    <tr>\n",
       "      <th>44</th>\n",
       "      <td>road-closed</td>\n",
       "      <td>leaflet-marker-icon wm-alert-icon wm-alert-ico...</td>\n",
       "      <td>{'x': 388, 'y': 61}</td>\n",
       "    </tr>\n",
       "    <tr>\n",
       "      <th>45</th>\n",
       "      <td>hazard</td>\n",
       "      <td>leaflet-marker-icon wm-alert-icon wm-alert-ico...</td>\n",
       "      <td>{'x': 202, 'y': 13}</td>\n",
       "    </tr>\n",
       "    <tr>\n",
       "      <th>46</th>\n",
       "      <td>road-closed</td>\n",
       "      <td>leaflet-marker-icon wm-alert-icon wm-alert-ico...</td>\n",
       "      <td>{'x': 342, 'y': 221}</td>\n",
       "    </tr>\n",
       "    <tr>\n",
       "      <th>47</th>\n",
       "      <td>road-closed</td>\n",
       "      <td>leaflet-marker-icon wm-alert-cluster-icon wm-a...</td>\n",
       "      <td>{'x': 290, 'y': 179}</td>\n",
       "    </tr>\n",
       "  </tbody>\n",
       "</table>\n",
       "</div>"
      ],
      "text/plain": [
       "     Event Type                                              Class  \\\n",
       "0        police  leaflet-marker-icon wm-alert-icon wm-alert-ico...   \n",
       "1        police  leaflet-marker-icon wm-alert-icon wm-alert-ico...   \n",
       "2   road-closed  leaflet-marker-icon wm-alert-cluster-icon wm-a...   \n",
       "3        police  leaflet-marker-icon wm-alert-icon wm-alert-ico...   \n",
       "4        police  leaflet-marker-icon wm-alert-icon wm-alert-ico...   \n",
       "5   road-closed  leaflet-marker-icon wm-alert-icon wm-alert-ico...   \n",
       "6      accident  leaflet-marker-icon wm-alert-cluster-icon wm-a...   \n",
       "7   road-closed  leaflet-marker-icon wm-alert-icon wm-alert-ico...   \n",
       "8   road-closed  leaflet-marker-icon wm-alert-cluster-icon wm-a...   \n",
       "9        police  leaflet-marker-icon wm-alert-icon wm-alert-ico...   \n",
       "10  road-closed  leaflet-marker-icon wm-alert-cluster-icon wm-a...   \n",
       "11       police  leaflet-marker-icon wm-alert-icon wm-alert-ico...   \n",
       "12  road-closed  leaflet-marker-icon wm-alert-cluster-icon wm-a...   \n",
       "13  road-closed  leaflet-marker-icon wm-alert-icon wm-alert-ico...   \n",
       "14  road-closed  leaflet-marker-icon wm-alert-cluster-icon wm-a...   \n",
       "15  road-closed  leaflet-marker-icon wm-alert-cluster-icon wm-a...   \n",
       "16  road-closed  leaflet-marker-icon wm-alert-cluster-icon wm-a...   \n",
       "17  road-closed  leaflet-marker-icon wm-alert-icon wm-alert-ico...   \n",
       "18  road-closed  leaflet-marker-icon wm-alert-icon wm-alert-ico...   \n",
       "19  road-closed  leaflet-marker-icon wm-alert-icon wm-alert-ico...   \n",
       "20  road-closed  leaflet-marker-icon wm-alert-cluster-icon wm-a...   \n",
       "21  road-closed  leaflet-marker-icon wm-alert-cluster-icon wm-a...   \n",
       "22  road-closed  leaflet-marker-icon wm-alert-icon wm-alert-ico...   \n",
       "23  road-closed  leaflet-marker-icon wm-alert-cluster-icon wm-a...   \n",
       "24  road-closed  leaflet-marker-icon wm-alert-icon wm-alert-ico...   \n",
       "25  road-closed  leaflet-marker-icon wm-alert-cluster-icon wm-a...   \n",
       "26  road-closed  leaflet-marker-icon wm-alert-icon wm-alert-ico...   \n",
       "27  road-closed  leaflet-marker-icon wm-alert-cluster-icon wm-a...   \n",
       "28  road-closed  leaflet-marker-icon wm-alert-icon wm-alert-ico...   \n",
       "29  road-closed  leaflet-marker-icon wm-alert-icon wm-alert-ico...   \n",
       "30  road-closed  leaflet-marker-icon wm-alert-cluster-icon wm-a...   \n",
       "31       police  leaflet-marker-icon wm-alert-icon wm-alert-ico...   \n",
       "32  road-closed  leaflet-marker-icon wm-alert-icon wm-alert-ico...   \n",
       "33  road-closed  leaflet-marker-icon wm-alert-cluster-icon wm-a...   \n",
       "34       police  leaflet-marker-icon wm-alert-icon wm-alert-ico...   \n",
       "35       police  leaflet-marker-icon wm-alert-icon wm-alert-ico...   \n",
       "36  road-closed  leaflet-marker-icon wm-alert-icon wm-alert-ico...   \n",
       "37  road-closed  leaflet-marker-icon wm-alert-icon wm-alert-ico...   \n",
       "38  road-closed  leaflet-marker-icon wm-alert-cluster-icon wm-a...   \n",
       "39  road-closed  leaflet-marker-icon wm-alert-icon wm-alert-ico...   \n",
       "40  road-closed  leaflet-marker-icon wm-alert-icon wm-alert-ico...   \n",
       "41  road-closed  leaflet-marker-icon wm-alert-icon wm-alert-ico...   \n",
       "42  road-closed  leaflet-marker-icon wm-alert-cluster-icon wm-a...   \n",
       "43  road-closed  leaflet-marker-icon wm-alert-icon wm-alert-ico...   \n",
       "44  road-closed  leaflet-marker-icon wm-alert-icon wm-alert-ico...   \n",
       "45       hazard  leaflet-marker-icon wm-alert-icon wm-alert-ico...   \n",
       "46  road-closed  leaflet-marker-icon wm-alert-icon wm-alert-ico...   \n",
       "47  road-closed  leaflet-marker-icon wm-alert-cluster-icon wm-a...   \n",
       "\n",
       "                 Location  \n",
       "0    {'x': 994, 'y': 494}  \n",
       "1   {'x': 1092, 'y': 369}  \n",
       "2   {'x': 1082, 'y': 119}  \n",
       "3    {'x': 360, 'y': -58}  \n",
       "4    {'x': 868, 'y': 510}  \n",
       "5    {'x': 688, 'y': 455}  \n",
       "6      {'x': 1, 'y': 307}  \n",
       "7    {'x': 490, 'y': 652}  \n",
       "8    {'x': 387, 'y': 671}  \n",
       "9    {'x': 886, 'y': 251}  \n",
       "10   {'x': 700, 'y': 202}  \n",
       "11    {'x': 88, 'y': 213}  \n",
       "12   {'x': 434, 'y': 146}  \n",
       "13   {'x': 518, 'y': 397}  \n",
       "14   {'x': 507, 'y': 297}  \n",
       "15   {'x': 326, 'y': 278}  \n",
       "16   {'x': 301, 'y': 204}  \n",
       "17  {'x': 1120, 'y': 571}  \n",
       "18     {'x': 72, 'y': 35}  \n",
       "19    {'x': 80, 'y': 592}  \n",
       "20   {'x': 380, 'y': 673}  \n",
       "21   {'x': 268, 'y': 314}  \n",
       "22    {'x': 88, 'y': 232}  \n",
       "23    {'x': 15, 'y': 185}  \n",
       "24  {'x': 1086, 'y': -10}  \n",
       "25   {'x': 1068, 'y': 96}  \n",
       "26   {'x': 524, 'y': 383}  \n",
       "27   {'x': 511, 'y': 298}  \n",
       "28   {'x': 362, 'y': -58}  \n",
       "29   {'x': 426, 'y': 130}  \n",
       "30    {'x': 391, 'y': 65}  \n",
       "31   {'x': 290, 'y': 170}  \n",
       "32   {'x': 412, 'y': 279}  \n",
       "33   {'x': 328, 'y': 226}  \n",
       "34    {'x': 580, 'y': 78}  \n",
       "35   {'x': 756, 'y': 329}  \n",
       "36   {'x': 720, 'y': 214}  \n",
       "37   {'x': 750, 'y': 133}  \n",
       "38   {'x': 658, 'y': 180}  \n",
       "39    {'x': 30, 'y': 179}  \n",
       "40    {'x': 78, 'y': 594}  \n",
       "41   {'x': 514, 'y': 294}  \n",
       "42   {'x': 681, 'y': 206}  \n",
       "43   {'x': 334, 'y': 289}  \n",
       "44    {'x': 388, 'y': 61}  \n",
       "45    {'x': 202, 'y': 13}  \n",
       "46   {'x': 342, 'y': 221}  \n",
       "47   {'x': 290, 'y': 179}  "
      ]
     },
     "execution_count": 100,
     "metadata": {},
     "output_type": "execute_result"
    }
   ],
   "source": [
    "# Wait for map elements to load\n",
    "WebDriverWait(driver, 10).until(\n",
    "    EC.presence_of_all_elements_located((By.CLASS_NAME, \"leaflet-marker-icon\"))\n",
    ")\n",
    "\n",
    "# Find all map elements with the specific class\n",
    "map_elements = driver.find_elements(By.CLASS_NAME, \"leaflet-marker-icon\")\n",
    "\n",
    "# Create an empty list to store element details\n",
    "data = []\n",
    "\n",
    "# Extract details of each element and store them in the list\n",
    "for index, element in enumerate(map_elements, start=1):\n",
    "    element_class = element.get_attribute(\"class\")\n",
    "    \n",
    "    # Skip rows containing user icons\n",
    "    if \"wm-user-icon\" in element_class:\n",
    "        continue\n",
    "    \n",
    "    element_location = element.location  # Element's position on the map\n",
    "    \n",
    "    # Extract event type from class string\n",
    "    event_type = None\n",
    "    for cls in element_class.split():\n",
    "        if \"wm-alert-icon--\" in cls and cls != \"wm-alert-icon\":\n",
    "            event_type = cls.replace(\"wm-alert-icon--\", \"\")\n",
    "            break  # Stop searching once the event type is found\n",
    "    \n",
    "    # Additional check for \"cluster\" or other hints in the class\n",
    "    if not event_type:\n",
    "        if \"current-location\" in element_class:\n",
    "            event_type = \"current-location\"\n",
    "        elif \"is-origin\" in element_class:\n",
    "            event_type = \"origin\"\n",
    "        elif \"is-destination\" in element_class:\n",
    "            event_type = \"destination\"\n",
    "        elif \"road-closed\" in element_class:\n",
    "            event_type = \"road-closed\"\n",
    "        elif \"police\" in element_class:\n",
    "            event_type = \"police\"\n",
    "        elif \"hazard\" in element_class:\n",
    "            event_type = \"hazard\"\n",
    "        elif \"accident\" in element_class:\n",
    "            event_type = \"accident\"\n",
    "        elif \"wm-alert-cluster-icon\" in element_class:\n",
    "            event_type = \"cluster\"\n",
    "    \n",
    "    # Append the extracted data to the list\n",
    "    data.append({\n",
    "        \"Event Type\": event_type,\n",
    "        \"Class\": element_class,\n",
    "        \"Location\": element_location\n",
    "    })\n",
    "\n",
    "# Create a pandas DataFrame from the list\n",
    "df = pd.DataFrame(data)\n",
    "df"
   ]
  },
  {
   "cell_type": "markdown",
   "metadata": {},
   "source": [
    "#### Close the Browser"
   ]
  },
  {
   "cell_type": "code",
   "execution_count": 7,
   "metadata": {},
   "outputs": [],
   "source": [
    "# Close the browser\n",
    "# driver.quit()"
   ]
  }
 ],
 "metadata": {
  "kernelspec": {
   "display_name": "Python 3",
   "language": "python",
   "name": "python3"
  },
  "language_info": {
   "codemirror_mode": {
    "name": "ipython",
    "version": 3
   },
   "file_extension": ".py",
   "mimetype": "text/x-python",
   "name": "python",
   "nbconvert_exporter": "python",
   "pygments_lexer": "ipython3",
   "version": "3.13.1"
  }
 },
 "nbformat": 4,
 "nbformat_minor": 2
}
