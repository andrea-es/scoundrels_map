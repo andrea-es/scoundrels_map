{
 "cells": [
  {
   "cell_type": "markdown",
   "metadata": {},
   "source": [
    "## Initialize"
   ]
  },
  {
   "cell_type": "markdown",
   "metadata": {},
   "source": [
    "#### Import All Required Libraries"
   ]
  },
  {
   "cell_type": "code",
   "execution_count": 18,
   "metadata": {},
   "outputs": [],
   "source": [
    "from selenium import webdriver\n",
    "from selenium.webdriver.common.by import By\n",
    "from selenium.webdriver.common.keys import Keys\n",
    "from selenium.webdriver.support.ui import WebDriverWait\n",
    "from selenium.webdriver.support import expected_conditions as EC\n",
    "import time"
   ]
  },
  {
   "cell_type": "markdown",
   "metadata": {},
   "source": [
    "#### Initialize and Open Chrome"
   ]
  },
  {
   "cell_type": "code",
   "execution_count": 19,
   "metadata": {},
   "outputs": [],
   "source": [
    "# Initialize Chrome WebDriver\n",
    "driver = webdriver.Chrome()\n",
    "\n",
    "# Open Google\n",
    "driver.get(\"https://www.google.com\")"
   ]
  },
  {
   "cell_type": "markdown",
   "metadata": {},
   "source": [
    "#### Handle Cookie Consent Popup"
   ]
  },
  {
   "cell_type": "markdown",
   "metadata": {},
   "source": [
    "works with Italian, may need to do another one for English"
   ]
  },
  {
   "cell_type": "code",
   "execution_count": 20,
   "metadata": {},
   "outputs": [
    {
     "name": "stdout",
     "output_type": "stream",
     "text": [
      "Cookie popup dismissed.\n"
     ]
    }
   ],
   "source": [
    "# Handle the cookie consent popup\n",
    "try:\n",
    "    WebDriverWait(driver, 5).until(\n",
    "        EC.element_to_be_clickable((By.XPATH, \"//button/div[text()='Rifiuta tutto']\"))\n",
    "    ).click()\n",
    "    print(\"Cookie popup dismissed.\")\n",
    "except:\n",
    "    print(\"No cookie popup found or already dismissed.\")\n"
   ]
  },
  {
   "cell_type": "markdown",
   "metadata": {},
   "source": [
    "## Waze"
   ]
  },
  {
   "cell_type": "markdown",
   "metadata": {},
   "source": [
    "#### Open Waze"
   ]
  },
  {
   "cell_type": "code",
   "execution_count": 21,
   "metadata": {},
   "outputs": [
    {
     "name": "stdout",
     "output_type": "stream",
     "text": [
      "Page title: Driving directions, live traffic & road conditions updates - Waze\n"
     ]
    }
   ],
   "source": [
    "# Open Waze Live Map\n",
    "driver.get(\"https://www.waze.com/live-map/\")\n",
    "\n",
    "# Print the page title to confirm successful navigation\n",
    "print(\"Page title:\", driver.title)"
   ]
  },
  {
   "cell_type": "code",
   "execution_count": 22,
   "metadata": {},
   "outputs": [
    {
     "name": "stdout",
     "output_type": "stream",
     "text": [
      "Clicked 'Got it' button.\n",
      "Clicked 'Agree' button.\n"
     ]
    }
   ],
   "source": [
    "# Click the \"Got it\" button\n",
    "try:\n",
    "    got_it_button = WebDriverWait(driver, 3).until(\n",
    "        EC.element_to_be_clickable((By.CLASS_NAME, \"waze-tour-tooltip__acknowledge\"))\n",
    "    )\n",
    "    got_it_button.click()\n",
    "    print(\"Clicked 'Got it' button.\")\n",
    "except Exception as e:\n",
    "    print(f\"Could not click 'Got it' button\")\n",
    "\n",
    "# Click the \"Agree\" button for cookies\n",
    "try:\n",
    "    agree_button = WebDriverWait(driver, 3).until(\n",
    "        EC.element_to_be_clickable((By.XPATH, \"//button[text()='Agree']\"))\n",
    "    )\n",
    "    agree_button.click()\n",
    "    print(\"Clicked 'Agree' button.\")\n",
    "except Exception as e:\n",
    "    print(f\"Could not click 'Agree' button\")\n"
   ]
  },
  {
   "cell_type": "markdown",
   "metadata": {},
   "source": [
    "#### Locate Markers"
   ]
  },
  {
   "cell_type": "code",
   "execution_count": 23,
   "metadata": {},
   "outputs": [
    {
     "name": "stdout",
     "output_type": "stream",
     "text": [
      "Element 1:\n",
      "  Class: leaflet-marker-icon wm-alert-icon wm-alert-icon--police wm-alert-icon--default wm-alert-icon--zoom14 wm-alert-icon--without-badge leaflet-zoom-animated leaflet-interactive\n",
      "  Location: {'x': 12, 'y': 214}\n",
      "Element 2:\n",
      "  Class: leaflet-marker-icon wm-alert-icon wm-alert-icon--road-closed wm-alert-icon--road-closed-event wm-alert-icon--zoom14 wm-alert-icon--without-badge leaflet-zoom-animated leaflet-interactive\n",
      "  Location: {'x': -4, 'y': 316}\n",
      "Element 3:\n",
      "  Class: leaflet-marker-icon wm-alert-icon wm-alert-icon--police wm-alert-icon--default wm-alert-icon--zoom14 wm-alert-icon--without-badge leaflet-zoom-animated leaflet-interactive\n",
      "  Location: {'x': 124, 'y': 544}\n",
      "Element 4:\n",
      "  Class: leaflet-marker-icon wm-alert-icon wm-alert-icon--road-closed wm-alert-icon--road-closed-event wm-alert-icon--zoom14 wm-alert-icon--without-badge leaflet-zoom-animated leaflet-interactive\n",
      "  Location: {'x': 490, 'y': 652}\n",
      "Element 5:\n",
      "  Class: leaflet-marker-icon wm-alert-cluster-icon wm-alert-cluster-icon--road-closed wm-alert-cluster-icon--road-closed-event wm-alert-cluster-icon--zoom14 wm-alert-cluster-icon--uniform leaflet-zoom-animated leaflet-interactive\n",
      "  Location: {'x': 387, 'y': 671}\n",
      "Element 6:\n",
      "  Class: leaflet-marker-icon wm-alert-cluster-icon wm-alert-cluster-icon--road-closed wm-alert-cluster-icon--road-closed-event wm-alert-cluster-icon--zoom14 wm-alert-cluster-icon--uniform leaflet-zoom-animated leaflet-interactive\n",
      "  Location: {'x': 1075, 'y': 104}\n",
      "Element 7:\n",
      "  Class: leaflet-marker-icon wm-alert-cluster-icon wm-alert-cluster-icon--road-closed wm-alert-cluster-icon--road-closed-event wm-alert-cluster-icon--zoom14 wm-alert-cluster-icon--uniform leaflet-zoom-animated leaflet-interactive\n",
      "  Location: {'x': 440, 'y': 144}\n",
      "Element 8:\n",
      "  Class: leaflet-marker-icon wm-alert-cluster-icon wm-alert-cluster-icon--road-closed wm-alert-cluster-icon--road-closed-event wm-alert-cluster-icon--zoom14 wm-alert-cluster-icon--uniform leaflet-zoom-animated leaflet-interactive\n",
      "  Location: {'x': 306, 'y': 237}\n",
      "Element 9:\n",
      "  Class: leaflet-marker-icon wm-alert-icon wm-alert-icon--road-closed wm-alert-icon--road-closed-event wm-alert-icon--zoom14 wm-alert-icon--without-badge leaflet-zoom-animated leaflet-interactive\n",
      "  Location: {'x': 688, 'y': 455}\n",
      "Element 10:\n",
      "  Class: leaflet-marker-icon wm-alert-icon wm-alert-icon--road-closed wm-alert-icon--road-closed-event wm-alert-icon--zoom14 wm-alert-icon--without-badge leaflet-zoom-animated leaflet-interactive\n",
      "  Location: {'x': 518, 'y': 397}\n",
      "Element 11:\n",
      "  Class: leaflet-marker-icon wm-alert-cluster-icon wm-alert-cluster-icon--road-closed wm-alert-cluster-icon--road-closed-event wm-alert-cluster-icon--zoom14 wm-alert-cluster-icon--uniform leaflet-zoom-animated leaflet-interactive\n",
      "  Location: {'x': 507, 'y': 297}\n",
      "Element 12:\n",
      "  Class: leaflet-marker-icon wm-alert-icon wm-alert-icon--road-closed wm-alert-icon--road-closed-event wm-alert-icon--zoom14 wm-alert-icon--without-badge leaflet-zoom-animated leaflet-interactive\n",
      "  Location: {'x': 664, 'y': 182}\n",
      "Element 13:\n",
      "  Class: leaflet-marker-icon wm-alert-cluster-icon wm-alert-cluster-icon--road-closed wm-alert-cluster-icon--road-closed-event wm-alert-cluster-icon--zoom14 wm-alert-cluster-icon--uniform leaflet-zoom-animated leaflet-interactive\n",
      "  Location: {'x': 709, 'y': 206}\n",
      "Element 14:\n",
      "  Class: leaflet-marker-icon wm-alert-icon wm-alert-icon--road-closed wm-alert-icon--road-closed-event wm-alert-icon--zoom14 wm-alert-icon--without-badge leaflet-zoom-animated leaflet-interactive\n",
      "  Location: {'x': 30, 'y': 179}\n",
      "Element 15:\n",
      "  Class: leaflet-marker-icon wm-alert-icon wm-alert-icon--road-closed wm-alert-icon--road-closed-event wm-alert-icon--zoom14 wm-alert-icon--without-badge leaflet-zoom-animated leaflet-interactive\n",
      "  Location: {'x': 78, 'y': 594}\n",
      "Element 16:\n",
      "  Class: leaflet-marker-icon wm-alert-icon wm-alert-icon--road-closed wm-alert-icon--road-closed-event wm-alert-icon--zoom14 wm-alert-icon--without-badge leaflet-zoom-animated leaflet-interactive\n",
      "  Location: {'x': 514, 'y': 294}\n",
      "Element 17:\n",
      "  Class: leaflet-marker-icon wm-alert-cluster-icon wm-alert-cluster-icon--road-closed wm-alert-cluster-icon--road-closed-event wm-alert-cluster-icon--zoom14 wm-alert-cluster-icon--uniform leaflet-zoom-animated leaflet-interactive\n",
      "  Location: {'x': 681, 'y': 206}\n",
      "Element 18:\n",
      "  Class: leaflet-marker-icon wm-alert-icon wm-alert-icon--road-closed wm-alert-icon--road-closed-event wm-alert-icon--zoom14 wm-alert-icon--without-badge leaflet-zoom-animated leaflet-interactive\n",
      "  Location: {'x': 388, 'y': 61}\n",
      "Element 19:\n",
      "  Class: leaflet-marker-icon wm-alert-icon wm-alert-icon--road-closed wm-alert-icon--road-closed-event wm-alert-icon--zoom14 wm-alert-icon--without-badge leaflet-zoom-animated leaflet-interactive\n",
      "  Location: {'x': 342, 'y': 221}\n",
      "Element 20:\n",
      "  Class: leaflet-marker-icon wm-alert-icon wm-alert-icon--road-closed wm-alert-icon--road-closed-event wm-alert-icon--zoom14 wm-alert-icon--without-badge leaflet-zoom-animated leaflet-interactive\n",
      "  Location: {'x': 334, 'y': 289}\n",
      "Element 21:\n",
      "  Class: leaflet-marker-icon wm-alert-cluster-icon wm-alert-cluster-icon--road-closed wm-alert-cluster-icon--road-closed-event wm-alert-cluster-icon--zoom14 wm-alert-cluster-icon--uniform leaflet-zoom-animated leaflet-interactive\n",
      "  Location: {'x': 290, 'y': 179}\n",
      "Element 22:\n",
      "  Class: leaflet-marker-icon wm-alert-icon wm-alert-icon--road-closed wm-alert-icon--road-closed-event wm-alert-icon--zoom14 wm-alert-icon--without-badge leaflet-zoom-animated leaflet-interactive\n",
      "  Location: {'x': 1120, 'y': 571}\n",
      "Element 23:\n",
      "  Class: leaflet-marker-icon wm-alert-icon wm-alert-icon--road-closed wm-alert-icon--road-closed-event wm-alert-icon--zoom14 wm-alert-icon--without-badge leaflet-zoom-animated leaflet-interactive\n",
      "  Location: {'x': 72, 'y': 35}\n",
      "Element 24:\n",
      "  Class: leaflet-marker-icon wm-alert-icon wm-alert-icon--road-closed wm-alert-icon--road-closed-event wm-alert-icon--zoom14 wm-alert-icon--without-badge leaflet-zoom-animated leaflet-interactive\n",
      "  Location: {'x': 80, 'y': 592}\n",
      "Element 25:\n",
      "  Class: leaflet-marker-icon wm-alert-icon wm-alert-icon--road-closed wm-alert-icon--road-closed-event wm-alert-icon--zoom14 wm-alert-icon--without-badge leaflet-zoom-animated leaflet-interactive\n",
      "  Location: {'x': 374, 'y': 675}\n",
      "Element 26:\n",
      "  Class: leaflet-marker-icon wm-alert-cluster-icon wm-alert-cluster-icon--road-closed wm-alert-cluster-icon--road-closed-event wm-alert-cluster-icon--zoom14 wm-alert-cluster-icon--uniform leaflet-zoom-animated leaflet-interactive\n",
      "  Location: {'x': 268, 'y': 314}\n",
      "Element 27:\n",
      "  Class: leaflet-marker-icon wm-alert-icon wm-alert-icon--road-closed wm-alert-icon--road-closed-event wm-alert-icon--zoom14 wm-alert-icon--without-badge leaflet-zoom-animated leaflet-interactive\n",
      "  Location: {'x': 88, 'y': 232}\n",
      "Element 28:\n",
      "  Class: leaflet-marker-icon wm-alert-cluster-icon wm-alert-cluster-icon--road-closed wm-alert-cluster-icon--road-closed-event wm-alert-cluster-icon--zoom14 wm-alert-cluster-icon--uniform leaflet-zoom-animated leaflet-interactive\n",
      "  Location: {'x': 15, 'y': 185}\n",
      "Element 29:\n",
      "  Class: leaflet-marker-icon wm-alert-icon wm-alert-icon--road-closed wm-alert-icon--road-closed-event wm-alert-icon--zoom14 wm-alert-icon--without-badge leaflet-zoom-animated leaflet-interactive\n",
      "  Location: {'x': 1086, 'y': -10}\n",
      "Element 30:\n",
      "  Class: leaflet-marker-icon wm-alert-cluster-icon wm-alert-cluster-icon--road-closed wm-alert-cluster-icon--road-closed-event wm-alert-cluster-icon--zoom14 wm-alert-cluster-icon--uniform leaflet-zoom-animated leaflet-interactive\n",
      "  Location: {'x': 1068, 'y': 96}\n",
      "Element 31:\n",
      "  Class: leaflet-marker-icon wm-alert-icon wm-alert-icon--road-closed wm-alert-icon--road-closed-event wm-alert-icon--zoom14 wm-alert-icon--without-badge leaflet-zoom-animated leaflet-interactive\n",
      "  Location: {'x': 720, 'y': 214}\n",
      "Element 32:\n",
      "  Class: leaflet-marker-icon wm-alert-icon wm-alert-icon--road-closed wm-alert-icon--road-closed-event wm-alert-icon--zoom14 wm-alert-icon--without-badge leaflet-zoom-animated leaflet-interactive\n",
      "  Location: {'x': 750, 'y': 133}\n",
      "Element 33:\n",
      "  Class: leaflet-marker-icon wm-alert-cluster-icon wm-alert-cluster-icon--road-closed wm-alert-cluster-icon--road-closed-event wm-alert-cluster-icon--zoom14 wm-alert-cluster-icon--uniform leaflet-zoom-animated leaflet-interactive\n",
      "  Location: {'x': 658, 'y': 180}\n",
      "Element 34:\n",
      "  Class: leaflet-marker-icon wm-alert-icon wm-alert-icon--road-closed wm-alert-icon--road-closed-event wm-alert-icon--zoom14 wm-alert-icon--without-badge leaflet-zoom-animated leaflet-interactive\n",
      "  Location: {'x': 362, 'y': -58}\n",
      "Element 35:\n",
      "  Class: leaflet-marker-icon wm-alert-icon wm-alert-icon--road-closed wm-alert-icon--road-closed-event wm-alert-icon--zoom14 wm-alert-icon--without-badge leaflet-zoom-animated leaflet-interactive\n",
      "  Location: {'x': 412, 'y': 279}\n",
      "Element 36:\n",
      "  Class: leaflet-marker-icon wm-alert-cluster-icon wm-alert-cluster-icon--road-closed wm-alert-cluster-icon--road-closed-event wm-alert-cluster-icon--zoom14 wm-alert-cluster-icon--uniform leaflet-zoom-animated leaflet-interactive\n",
      "  Location: {'x': 341, 'y': 223}\n",
      "Element 37:\n",
      "  Class: leaflet-marker-icon wm-alert-icon wm-alert-icon--road-closed wm-alert-icon--road-closed-event wm-alert-icon--zoom14 wm-alert-icon--without-badge leaflet-zoom-animated leaflet-interactive\n",
      "  Location: {'x': 524, 'y': 383}\n",
      "Element 38:\n",
      "  Class: leaflet-marker-icon wm-alert-cluster-icon wm-alert-cluster-icon--road-closed wm-alert-cluster-icon--road-closed-event wm-alert-cluster-icon--zoom14 wm-alert-cluster-icon--uniform leaflet-zoom-animated leaflet-interactive\n",
      "  Location: {'x': 511, 'y': 298}\n",
      "Element 39:\n",
      "  Class: leaflet-marker-icon wm-alert-icon wm-alert-icon--road-closed wm-alert-icon--road-closed-event wm-alert-icon--zoom14 wm-alert-icon--without-badge leaflet-zoom-animated leaflet-interactive\n",
      "  Location: {'x': 426, 'y': 130}\n",
      "Element 40:\n",
      "  Class: leaflet-marker-icon wm-alert-cluster-icon wm-alert-cluster-icon--road-closed wm-alert-cluster-icon--road-closed-event wm-alert-cluster-icon--zoom14 wm-alert-cluster-icon--uniform leaflet-zoom-animated leaflet-interactive\n",
      "  Location: {'x': 390, 'y': 66}\n",
      "Element 41:\n",
      "  Class: leaflet-marker-icon wm-user-icon wm-user-icon--happy leaflet-zoom-animated\n",
      "  Location: {'x': 482, 'y': 375}\n",
      "Element 42:\n",
      "  Class: leaflet-marker-icon wm-user-icon wm-user-icon--happy leaflet-zoom-animated\n",
      "  Location: {'x': 803, 'y': 250}\n",
      "Element 43:\n",
      "  Class: leaflet-marker-icon wm-user-icon wm-user-icon--ninja leaflet-zoom-animated\n",
      "  Location: {'x': 389, 'y': 219}\n",
      "Element 44:\n",
      "  Class: leaflet-marker-icon wm-user-icon wm-user-icon--sunny leaflet-zoom-animated\n",
      "  Location: {'x': 203, 'y': 258}\n",
      "Element 45:\n",
      "  Class: leaflet-marker-icon wm-user-icon wm-user-icon--happy leaflet-zoom-animated\n",
      "  Location: {'x': 832, 'y': 101}\n",
      "Element 46:\n",
      "  Class: leaflet-marker-icon wm-user-icon wm-user-icon--sunny leaflet-zoom-animated\n",
      "  Location: {'x': 465, 'y': 445}\n",
      "Element 47:\n",
      "  Class: leaflet-marker-icon wm-user-icon wm-user-icon--happy leaflet-zoom-animated\n",
      "  Location: {'x': 511, 'y': 109}\n",
      "Element 48:\n",
      "  Class: leaflet-marker-icon wm-user-icon wm-user-icon--sunny leaflet-zoom-animated\n",
      "  Location: {'x': 791, 'y': 54}\n",
      "Element 49:\n",
      "  Class: leaflet-marker-icon wm-user-icon wm-user-icon--happy leaflet-zoom-animated\n",
      "  Location: {'x': 1123, 'y': 125}\n",
      "Element 50:\n",
      "  Class: leaflet-marker-icon wm-user-icon wm-user-icon--happy leaflet-zoom-animated\n",
      "  Location: {'x': 576, 'y': 508}\n",
      "Element 51:\n",
      "  Class: leaflet-marker-icon wm-user-icon wm-user-icon--happy leaflet-zoom-animated\n",
      "  Location: {'x': 511, 'y': 305}\n",
      "Element 52:\n",
      "  Class: leaflet-marker-icon wm-user-icon wm-user-icon--peaceful leaflet-zoom-animated\n",
      "  Location: {'x': 814, 'y': 563}\n",
      "Element 53:\n",
      "  Class: leaflet-marker-icon wm-user-icon wm-user-icon--happy leaflet-zoom-animated\n",
      "  Location: {'x': 704, 'y': 305}\n",
      "Element 54:\n",
      "  Class: leaflet-marker-icon wm-user-icon wm-user-icon--peaceful leaflet-zoom-animated\n",
      "  Location: {'x': 948, 'y': -71}\n",
      "Element 55:\n",
      "  Class: leaflet-marker-icon wm-user-icon wm-user-icon--happy leaflet-zoom-animated\n",
      "  Location: {'x': 645, 'y': 555}\n",
      "Element 56:\n",
      "  Class: leaflet-marker-icon wm-user-icon wm-user-icon--happy leaflet-zoom-animated\n",
      "  Location: {'x': 605, 'y': 352}\n",
      "Element 57:\n",
      "  Class: leaflet-marker-icon wm-user-icon wm-user-icon--happy leaflet-zoom-animated\n",
      "  Location: {'x': -19, 'y': 367}\n",
      "Element 58:\n",
      "  Class: leaflet-marker-icon wm-user-icon wm-user-icon--peaceful leaflet-zoom-animated\n",
      "  Location: {'x': 791, 'y': 54}\n",
      "Element 59:\n",
      "  Class: leaflet-marker-icon wm-user-icon wm-user-icon--happy leaflet-zoom-animated\n",
      "  Location: {'x': 651, 'y': 234}\n",
      "Element 60:\n",
      "  Class: leaflet-marker-icon wm-user-icon wm-user-icon--happy leaflet-zoom-animated\n",
      "  Location: {'x': 1077, 'y': 226}\n"
     ]
    }
   ],
   "source": [
    "# Wait for map elements to load\n",
    "WebDriverWait(driver, 10).until(\n",
    "    EC.presence_of_all_elements_located((By.CLASS_NAME, \"leaflet-marker-icon\"))\n",
    ")\n",
    "\n",
    "# Find all map elements with the specific class\n",
    "map_elements = driver.find_elements(By.CLASS_NAME, \"leaflet-marker-icon\")\n",
    "\n",
    "# Extract and print details of each element\n",
    "for index, element in enumerate(map_elements, start=1):\n",
    "    # Get element attributes\n",
    "    element_class = element.get_attribute(\"class\")\n",
    "    element_location = element.location  # Element's position on the map\n",
    "    print(f\"Element {index}:\")\n",
    "    print(f\"  Class: {element_class}\")\n",
    "    print(f\"  Location: {element_location}\")"
   ]
  },
  {
   "cell_type": "markdown",
   "metadata": {},
   "source": [
    "#### Close the Browser"
   ]
  },
  {
   "cell_type": "code",
   "execution_count": 26,
   "metadata": {},
   "outputs": [],
   "source": [
    "# Close the browser\n",
    "# driver.quit()"
   ]
  }
 ],
 "metadata": {
  "kernelspec": {
   "display_name": "Python 3",
   "language": "python",
   "name": "python3"
  },
  "language_info": {
   "codemirror_mode": {
    "name": "ipython",
    "version": 3
   },
   "file_extension": ".py",
   "mimetype": "text/x-python",
   "name": "python",
   "nbconvert_exporter": "python",
   "pygments_lexer": "ipython3",
   "version": "3.13.1"
  }
 },
 "nbformat": 4,
 "nbformat_minor": 2
}
